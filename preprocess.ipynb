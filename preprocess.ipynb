{
 "cells": [
  {
   "cell_type": "code",
   "execution_count": 1,
   "metadata": {},
   "outputs": [
    {
     "name": "stdout",
     "output_type": "stream",
     "text": [
      "importing Jupyter notebook from load_data.ipynb\n",
      "<class 'pandas.core.frame.DataFrame'>\n",
      "RangeIndex: 115071 entries, 0 to 115070\n",
      "Data columns (total 6 columns):\n",
      " #   Column        Non-Null Count   Dtype \n",
      "---  ------        --------------   ----- \n",
      " 0   tags          115071 non-null  object\n",
      " 1   id            115071 non-null  int64 \n",
      " 2   plylst_title  115071 non-null  object\n",
      " 3   songs         115071 non-null  object\n",
      " 4   like_cnt      115071 non-null  int64 \n",
      " 5   updt_date     115071 non-null  object\n",
      "dtypes: int64(2), object(4)\n",
      "memory usage: 5.3+ MB\n",
      "<class 'pandas.core.frame.DataFrame'>\n",
      "RangeIndex: 707989 entries, 0 to 707988\n",
      "Data columns (total 9 columns):\n",
      " #   Column                  Non-Null Count   Dtype \n",
      "---  ------                  --------------   ----- \n",
      " 0   song_gn_dtl_gnr_basket  707989 non-null  object\n",
      " 1   issue_date              707989 non-null  int64 \n",
      " 2   album_name              707985 non-null  object\n",
      " 3   album_id                707989 non-null  int64 \n",
      " 4   artist_id_basket        707989 non-null  object\n",
      " 5   song_name               707989 non-null  object\n",
      " 6   song_gn_gnr_basket      707989 non-null  object\n",
      " 7   artist_name_basket      707989 non-null  object\n",
      " 8   id                      707989 non-null  int64 \n",
      "dtypes: int64(3), object(6)\n",
      "memory usage: 48.6+ MB\n",
      "<class 'pandas.core.frame.DataFrame'>\n",
      "RangeIndex: 254 entries, 0 to 253\n",
      "Data columns (total 2 columns):\n",
      " #   Column    Non-Null Count  Dtype \n",
      "---  ------    --------------  ----- \n",
      " 0   gnr_code  254 non-null    object\n",
      " 1   gnr_name  254 non-null    object\n",
      "dtypes: object(2)\n",
      "memory usage: 4.1+ KB\n"
     ]
    }
   ],
   "source": [
    "import import_ipynb\n",
    "from load_data import train_data\n",
    "from load_data import song_meta\n",
    "from load_data import genre_gn_all"
   ]
  },
  {
   "cell_type": "code",
   "execution_count": 5,
   "metadata": {},
   "outputs": [],
   "source": [
    "import pandas as pd\n",
    "import seaborn as sns"
   ]
  },
  {
   "cell_type": "code",
   "execution_count": 3,
   "metadata": {},
   "outputs": [],
   "source": [
    "# playlist_index == 사용할 플레이리스트들의 인덱스를 저장\n",
    "playlist_index = []\n",
    "for index in train_data.index:\n",
    "    tag = train_data['plylst_title'][index]\n",
    "    if('크리스마스' in tag or '캐럴' in tag or '캐롤' in tag):\n",
    "        playlist_index.append(index)"
   ]
  },
  {
   "cell_type": "code",
   "execution_count": 9,
   "outputs": [],
   "source": [
    "#playlist == 사용할 플레이리스트 (train set)\n",
    "i=0\n",
    "playlist = pd.DataFrame([], columns=[\"Index\", \"tags\", \"id\", \"plylst_title\", \"songs\", \"like_cnt\", \"updt_date\"])\n",
    "for row in train_data.itertuples():\n",
    "    if row.Index in playlist_index :\n",
    "        if len(row.songs) > 5 :\n",
    "            playlist.loc[i] = row\n",
    "            i+= 1"
   ],
   "metadata": {
    "collapsed": false,
    "pycharm": {
     "name": "#%%\n"
    }
   }
  },
  {
   "cell_type": "code",
   "execution_count": 14,
   "metadata": {},
   "outputs": [],
   "source": [
    "# carol_index == 사용할 노래(캐럴)들의 인덱스 저장\n",
    "carol_index = []\n",
    "for index in playlist_index:  # 크리스마스 플레이리스트 번호 돌기\n",
    "    for song in train_data['songs'][index]:\n",
    "        if song not in carol_index:\n",
    "            carol_index.append(song)"
   ]
  },
  {
   "cell_type": "code",
   "execution_count": 15,
   "metadata": {},
   "outputs": [
    {
     "data": {
      "text/plain": "        Index    song_gn_dtl_gnr_basket issue_date  \\\n0          23  [GN1601, GN1615, GN1610]   20171006   \n1          41  [GN1701, GN1703, GN1702]   20121109   \n2          54                  [GN0101]   20190408   \n3          70          [GN0105, GN0101]   20121204   \n4          71          [GN1304, GN1301]   20110810   \n...       ...                       ...        ...   \n15045  707796                  [GN1701]   20111207   \n15046  707821                  [GN0901]   20110110   \n15047  707913                  [GN0101]   20131031   \n15048  707969          [GN0401, GN0402]   20110902   \n15049  707970          [GN0908, GN0901]   20181130   \n\n                               album_name  album_id         artist_id_basket  \\\n0          Christmas at Westminster Abbey  10104201  [345328, 36652, 347399]   \n1      Christmas (Deluxe Special Edition)   2167838                  [35370]   \n2                                    있어줄래  10271322                 [500421]   \n3                           WINTER POETRY   2169041                   [1741]   \n4                            Simple Steps   2058451                 [614091]   \n...                                   ...       ...                      ...   \n15045                Christmas Jazz Music   2233676                 [757383]   \n15046                   A Kylie Christmas    159204                   [2160]   \n15047                     Always be there   2213566                 [107728]   \n15048              I Decide (Piano Remix)   2010118                 [202407]   \n15049                          Peppermint  10227880                 [406421]   \n\n                                               song_name song_gn_gnr_basket  \\\n0      Anonymous: Up! Awake! From Highest Steeple - A...           [GN1600]   \n1               Mis Deseos / Feliz Navidad (with Thalia)           [GN1700]   \n2                                                   있어줄래           [GN0100]   \n3                                           너에게 전하지 못한 말           [GN0100]   \n4                                          Rollercoaster           [GN1300]   \n...                                                  ...                ...   \n15045      O Christmas Tree (Christmas Songs For Family)           [GN1700]   \n15046                                         Santa Baby           [GN0900]   \n15047                                    Always be there           [GN0100]   \n15048                             I Decide (Piano Remix)           [GN0400]   \n15049                                         Peppermint           [GN0900]   \n\n                                      artist_name_basket      id  \n0      [Choir Of Westminster Abbey, Simon Preston, Ch...      23  \n1                                        [Michael Buble]      41  \n2                                                 [길구봉구]      54  \n3                                                  [신혜성]      70  \n4                                              [Sam Ock]      71  \n...                                                  ...     ...  \n15045                                   [Christmas Jazz]  707796  \n15046                                    [Kylie Minogue]  707821  \n15047                                       [브라운 아이드 소울]  707913  \n15048                                   [헤리티지(Heritage)]  707969  \n15049                                    [Tiffany Young]  707970  \n\n[15050 rows x 10 columns]",
      "text/html": "<div>\n<style scoped>\n    .dataframe tbody tr th:only-of-type {\n        vertical-align: middle;\n    }\n\n    .dataframe tbody tr th {\n        vertical-align: top;\n    }\n\n    .dataframe thead th {\n        text-align: right;\n    }\n</style>\n<table border=\"1\" class=\"dataframe\">\n  <thead>\n    <tr style=\"text-align: right;\">\n      <th></th>\n      <th>Index</th>\n      <th>song_gn_dtl_gnr_basket</th>\n      <th>issue_date</th>\n      <th>album_name</th>\n      <th>album_id</th>\n      <th>artist_id_basket</th>\n      <th>song_name</th>\n      <th>song_gn_gnr_basket</th>\n      <th>artist_name_basket</th>\n      <th>id</th>\n    </tr>\n  </thead>\n  <tbody>\n    <tr>\n      <th>0</th>\n      <td>23</td>\n      <td>[GN1601, GN1615, GN1610]</td>\n      <td>20171006</td>\n      <td>Christmas at Westminster Abbey</td>\n      <td>10104201</td>\n      <td>[345328, 36652, 347399]</td>\n      <td>Anonymous: Up! Awake! From Highest Steeple - A...</td>\n      <td>[GN1600]</td>\n      <td>[Choir Of Westminster Abbey, Simon Preston, Ch...</td>\n      <td>23</td>\n    </tr>\n    <tr>\n      <th>1</th>\n      <td>41</td>\n      <td>[GN1701, GN1703, GN1702]</td>\n      <td>20121109</td>\n      <td>Christmas (Deluxe Special Edition)</td>\n      <td>2167838</td>\n      <td>[35370]</td>\n      <td>Mis Deseos / Feliz Navidad (with Thalia)</td>\n      <td>[GN1700]</td>\n      <td>[Michael Buble]</td>\n      <td>41</td>\n    </tr>\n    <tr>\n      <th>2</th>\n      <td>54</td>\n      <td>[GN0101]</td>\n      <td>20190408</td>\n      <td>있어줄래</td>\n      <td>10271322</td>\n      <td>[500421]</td>\n      <td>있어줄래</td>\n      <td>[GN0100]</td>\n      <td>[길구봉구]</td>\n      <td>54</td>\n    </tr>\n    <tr>\n      <th>3</th>\n      <td>70</td>\n      <td>[GN0105, GN0101]</td>\n      <td>20121204</td>\n      <td>WINTER POETRY</td>\n      <td>2169041</td>\n      <td>[1741]</td>\n      <td>너에게 전하지 못한 말</td>\n      <td>[GN0100]</td>\n      <td>[신혜성]</td>\n      <td>70</td>\n    </tr>\n    <tr>\n      <th>4</th>\n      <td>71</td>\n      <td>[GN1304, GN1301]</td>\n      <td>20110810</td>\n      <td>Simple Steps</td>\n      <td>2058451</td>\n      <td>[614091]</td>\n      <td>Rollercoaster</td>\n      <td>[GN1300]</td>\n      <td>[Sam Ock]</td>\n      <td>71</td>\n    </tr>\n    <tr>\n      <th>...</th>\n      <td>...</td>\n      <td>...</td>\n      <td>...</td>\n      <td>...</td>\n      <td>...</td>\n      <td>...</td>\n      <td>...</td>\n      <td>...</td>\n      <td>...</td>\n      <td>...</td>\n    </tr>\n    <tr>\n      <th>15045</th>\n      <td>707796</td>\n      <td>[GN1701]</td>\n      <td>20111207</td>\n      <td>Christmas Jazz Music</td>\n      <td>2233676</td>\n      <td>[757383]</td>\n      <td>O Christmas Tree (Christmas Songs For Family)</td>\n      <td>[GN1700]</td>\n      <td>[Christmas Jazz]</td>\n      <td>707796</td>\n    </tr>\n    <tr>\n      <th>15046</th>\n      <td>707821</td>\n      <td>[GN0901]</td>\n      <td>20110110</td>\n      <td>A Kylie Christmas</td>\n      <td>159204</td>\n      <td>[2160]</td>\n      <td>Santa Baby</td>\n      <td>[GN0900]</td>\n      <td>[Kylie Minogue]</td>\n      <td>707821</td>\n    </tr>\n    <tr>\n      <th>15047</th>\n      <td>707913</td>\n      <td>[GN0101]</td>\n      <td>20131031</td>\n      <td>Always be there</td>\n      <td>2213566</td>\n      <td>[107728]</td>\n      <td>Always be there</td>\n      <td>[GN0100]</td>\n      <td>[브라운 아이드 소울]</td>\n      <td>707913</td>\n    </tr>\n    <tr>\n      <th>15048</th>\n      <td>707969</td>\n      <td>[GN0401, GN0402]</td>\n      <td>20110902</td>\n      <td>I Decide (Piano Remix)</td>\n      <td>2010118</td>\n      <td>[202407]</td>\n      <td>I Decide (Piano Remix)</td>\n      <td>[GN0400]</td>\n      <td>[헤리티지(Heritage)]</td>\n      <td>707969</td>\n    </tr>\n    <tr>\n      <th>15049</th>\n      <td>707970</td>\n      <td>[GN0908, GN0901]</td>\n      <td>20181130</td>\n      <td>Peppermint</td>\n      <td>10227880</td>\n      <td>[406421]</td>\n      <td>Peppermint</td>\n      <td>[GN0900]</td>\n      <td>[Tiffany Young]</td>\n      <td>707970</td>\n    </tr>\n  </tbody>\n</table>\n<p>15050 rows × 10 columns</p>\n</div>"
     },
     "execution_count": 15,
     "metadata": {},
     "output_type": "execute_result"
    }
   ],
   "source": [
    "#carol_data == 사용할 노래(캐럴) 정보\n",
    "i=0\n",
    "carol_data = pd.DataFrame([], columns=[\"Index\",\"song_gn_dtl_gnr_basket\",\"issue_date\",\"album_name\",\"album_id\",\"artist_id_basket\",\"song_name\",\"song_gn_gnr_basket\",\"artist_name_basket\", \"id\"])\n",
    "for row in song_meta.itertuples():\n",
    "    if row.Index in carol_index :\n",
    "        carol_data.loc[i] = row\n",
    "        i += 1\n",
    "carol_data"
   ]
  },
  {
   "cell_type": "code",
   "execution_count": 20,
   "outputs": [],
   "source": [
    "del playlist['Index'];\n",
    "del carol_data['Index'];"
   ],
   "metadata": {
    "collapsed": false,
    "pycharm": {
     "name": "#%%\n"
    }
   }
  },
  {
   "cell_type": "code",
   "execution_count": 51,
   "metadata": {},
   "outputs": [],
   "source": [
    "# 전체 데이터셋의 20 퍼센트를 test_set 으로, 나머지의 20 퍼센트를 validation_set으로\n",
    "# 나머지를 train_set 으로\n",
    "from util import write_json\n",
    "from sklearn.model_selection import train_test_split\n",
    "train, test = train_test_split(playlist, test_size=0.2)\n",
    "train, val = train_test_split(train, test_size=0.2)"
   ]
  },
  {
   "cell_type": "code",
   "execution_count": 52,
   "outputs": [],
   "source": [
    "# 새 데이터들을 processedData 파일에 json 형식으로 저장\n",
    "write_json(train.to_json(orient = 'records'), \"./processedData/playlist_train.json\")\n",
    "write_json(val.to_json(orient = 'records'), \"./processedData/playlist_val.json\")\n",
    "write_json(test.to_json(orient = 'records'), \"./processedData/playlist_test.json\")\n",
    "write_json(carol_data.to_json(orient = 'records'), \"./processedData/carol_data.json\")\n"
   ],
   "metadata": {
    "collapsed": false,
    "pycharm": {
     "name": "#%%\n"
    }
   }
  },
  {
   "cell_type": "code",
   "execution_count": null,
   "outputs": [],
   "source": [],
   "metadata": {
    "collapsed": false,
    "pycharm": {
     "name": "#%%\n"
    }
   }
  }
 ],
 "metadata": {
  "kernelspec": {
   "display_name": "Python 3",
   "language": "python",
   "name": "python3"
  },
  "language_info": {
   "codemirror_mode": {
    "name": "ipython",
    "version": 3
   },
   "file_extension": ".py",
   "mimetype": "text/x-python",
   "name": "python",
   "nbconvert_exporter": "python",
   "pygments_lexer": "ipython3",
   "version": "3.8.5"
  }
 },
 "nbformat": 4,
 "nbformat_minor": 4
}