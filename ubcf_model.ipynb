{
 "cells": [
  {
   "cell_type": "code",
   "execution_count": 1,
   "metadata": {},
   "outputs": [],
   "source": [
    "from tqdm import tqdm\n",
    "\n",
    "def rec(pids):\n",
    "  tt = 1\n",
    "\n",
    "  res = []\n",
    "\n",
    "  for pid in pids:\n",
    "    p = np.zeros((n_songs,1))\n",
    "    p[test.loc[pid,'songs_id']] = 1\n",
    "\n",
    "    val = train_songs_A.dot(p).reshape(-1)\n",
    "\n",
    "    songs_already = test.loc[pid, \"songs_id\"]\n",
    "    tags_already = test.loc[pid, \"tags_id\"]\n",
    "\n",
    "    cand_song = train_songs_A_T.dot(val)\n",
    "    cand_song_idx = cand_song.reshape(-1).argsort()[-150:][::-1]\n",
    "\n",
    "    cand_song_idx = cand_song_idx[np.isin(cand_song_idx, songs_already) == False][:100]\n",
    "    rec_song_idx = [song_sid_id[i] for i in cand_song_idx]\n",
    "\n",
    "    cand_tag = train_tags_A_T.dot(val)\n",
    "    cand_tag_idx = cand_tag.reshape(-1).argsort()[-15:][::-1]\n",
    "\n",
    "    cand_tag_idx = cand_tag_idx[np.isin(cand_tag_idx, tags_already) == False][:10]\n",
    "    rec_tag_idx = [tag_tid_id[i] for i in cand_tag_idx]\n",
    "\n",
    "    res.append({\n",
    "                \"id\": plylst_nid_id[pid],\n",
    "                \"songs\": rec_song_idx,\n",
    "                \"tags\": rec_tag_idx\n",
    "            })\n",
    "    \n",
    "    if tt % 1000 == 0:\n",
    "      print(tt)\n",
    "\n",
    "    tt += 1\n",
    "  return res"
   ]
  }
 ],
 "metadata": {
  "kernelspec": {
   "display_name": "Python 3",
   "language": "python",
   "name": "python3"
  },
  "language_info": {
   "codemirror_mode": {
    "name": "ipython",
    "version": 3
   },
   "file_extension": ".py",
   "mimetype": "text/x-python",
   "name": "python",
   "nbconvert_exporter": "python",
   "pygments_lexer": "ipython3",
   "version": "3.8.5"
  }
 },
 "nbformat": 4,
 "nbformat_minor": 4
}
