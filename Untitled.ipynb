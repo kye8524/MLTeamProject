{
 "cells": [
  {
   "cell_type": "code",
   "execution_count": 2,
   "metadata": {},
   "outputs": [],
   "source": [
    "# arena_util.py\n",
    "# -*- coding: utf-8 -*-\n",
    "\n",
    "import io\n",
    "import os\n",
    "import json\n",
    "import distutils.dir_util\n",
    "from collections import Counter\n",
    "\n",
    "import numpy as np\n",
    "\n",
    "\n",
    "def write_json(data, fname):\n",
    "    def _conv(o):\n",
    "        if isinstance(o, np.int64) or isinstance(o, np.int32):\n",
    "            return int(o)\n",
    "        raise TypeError\n",
    "\n",
    "    parent = os.path.dirname(fname)\n",
    "    distutils.dir_util.mkpath(\"./data/\" + parent)\n",
    "    with io.open(\"./data/\" + fname, \"w\", encoding=\"utf8\") as f:\n",
    "        json_str = json.dumps(data, ensure_ascii=False, default=_conv)\n",
    "        f.write(json_str)\n",
    "\n",
    "\n",
    "def load_json(fname):\n",
    "    with open(fname, encoding='utf8') as f:\n",
    "        json_obj = json.load(f)\n",
    "\n",
    "    return json_obj\n",
    "\n",
    "\n",
    "def debug_json(r):\n",
    "    print(json.dumps(r, ensure_ascii=False, indent=4))"
   ]
  },
  {
   "cell_type": "code",
   "execution_count": 3,
   "metadata": {},
   "outputs": [],
   "source": [
    "# evaluate.py\n",
    "# -*- coding: utf-8 -*-\n",
    "# import fire\n",
    "import numpy as np\n",
    "\n",
    "# from arena_util import load_json\n",
    "\n",
    "\n",
    "class CustomEvaluator:\n",
    "    def _idcg(self, l): # rel가 큰 순서대로 재배열한 후 상위 p개를 선택한 rel_opt에 대해서 DCG를 계산한 결과\n",
    "        return sum((1.0 / np.log(i + 2) for i in range(l)))\n",
    "\n",
    "    def __init__(self):\n",
    "        self._idcgs = [self._idcg(i) for i in range(101)] # _idcgs = [_idcg(0), _idcg(1), ..., _idcg(100)]\n",
    "\n",
    "    def _ndcg(self, gt, rec): # 평가지표 \n",
    "        print('call _ndcg')\n",
    "        dcg = 0.0\n",
    "        for i, r in enumerate(rec):\n",
    "            if r in gt:\n",
    "                dcg += 1.0 / np.log(i + 2)\n",
    "        \n",
    "        print(f'{self._idcgs[len(gt)]}, {len(gt)}, {gt}')\n",
    "        return dcg / self._idcgs[len(gt)]\n",
    "\n",
    "    def _eval(self, gt_fname, rec_fname):\n",
    "        print('call _eval')\n",
    "        gt_playlists = load_json(gt_fname)\n",
    "        gt_dict = {g[\"id\"]: g for g in gt_playlists}\n",
    "        rec_playlists = load_json(rec_fname)\n",
    "        \n",
    "        music_ndcg = 0.0\n",
    "        tag_ndcg = 0.0\n",
    "\n",
    "        for rec in rec_playlists:\n",
    "            gt = gt_dict[rec[\"id\"]]\n",
    "            print(f'{gt[\"songs\"]} ---> {rec[\"songs\"][:100]} ---> {gt[\"tags\"]} ---> {rec[\"tags\"][:10]}')\n",
    "            music_ndcg += self._ndcg(gt[\"songs\"], rec[\"songs\"][:100])\n",
    "            tag_ndcg += self._ndcg(gt[\"tags\"], rec[\"tags\"][:10])\n",
    "\n",
    "        print(len(rec_playlists))\n",
    "        music_ndcg = music_ndcg / len(rec_playlists)\n",
    "        tag_ndcg = tag_ndcg / len(rec_playlists)\n",
    "        score = music_ndcg * 0.85 + tag_ndcg * 0.15\n",
    "\n",
    "        return music_ndcg, tag_ndcg, score\n",
    "\n",
    "    def evaluate(self, gt_fname, rec_fname):\n",
    "        try:\n",
    "            music_ndcg, tag_ndcg, score = self._eval(gt_fname, rec_fname)\n",
    "            print(f\"Music nDCG: {music_ndcg:.6}\")\n",
    "            print(f\"Tag nDCG: {tag_ndcg:.6}\")\n",
    "            print(f\"Score: {score:.6}\")\n",
    "        except Exception as e:\n",
    "            print(e)\n",
    "\n",
    "\n",
    "# if __name__ == \"__main__\":\n",
    "#     fire.Fire(ArenaEvaluator)"
   ]
  },
  {
   "cell_type": "code",
   "execution_count": 4,
   "metadata": {},
   "outputs": [],
   "source": [
    "from collections import Counter\n",
    "\n",
    "import numpy as np\n",
    "import pandas as pd\n",
    "\n",
    "import scipy.sparse as spr\n",
    "import pickle"
   ]
  },
  {
   "cell_type": "code",
   "execution_count": 5,
   "metadata": {},
   "outputs": [],
   "source": [
    "song_meta = pd.read_json(\"data/song_meta.json\")\n",
    "train = pd.read_json(\"data/train.json\")\n",
    "test = pd.read_json(\"data/val.json\")"
   ]
  },
  {
   "cell_type": "code",
   "execution_count": 6,
   "metadata": {},
   "outputs": [],
   "source": [
    "train['istrain'] = 1\n",
    "test['istrain'] = 0\n",
    "\n",
    "n_train = len(train)\n",
    "n_test = len(test)\n",
    "\n",
    "# train + test\n",
    "plylst = pd.concat([train, test], ignore_index=True)\n",
    "\n",
    "# playlist id\n",
    "plylst[\"nid\"] = range(n_train + n_test)\n",
    "\n",
    "# id <-> nid\n",
    "plylst_id_nid = dict(zip(plylst[\"id\"],plylst[\"nid\"]))\n",
    "plylst_nid_id = dict(zip(plylst[\"nid\"],plylst[\"id\"]))"
   ]
  },
  {
   "cell_type": "code",
   "execution_count": 7,
   "metadata": {},
   "outputs": [],
   "source": [
    "plylst_tag = plylst['tags']\n",
    "tag_counter = Counter([tg for tgs in plylst_tag for tg in tgs])\n",
    "tag_dict = {x: tag_counter[x] for x in tag_counter}\n",
    "\n",
    "tag_id_tid = dict()\n",
    "tag_tid_id = dict()\n",
    "for i, t in enumerate(tag_dict):\n",
    "  tag_id_tid[t] = i\n",
    "  tag_tid_id[i] = t\n",
    "\n",
    "n_tags = len(tag_dict)\n",
    "\n",
    "plylst_song = plylst['songs']\n",
    "song_counter = Counter([sg for sgs in plylst_song for sg in sgs])\n",
    "song_dict = {x: song_counter[x] for x in song_counter}\n",
    "\n",
    "song_id_sid = dict()\n",
    "song_sid_id = dict()\n",
    "for i, t in enumerate(song_dict):\n",
    "  song_id_sid[t] = i\n",
    "  song_sid_id[i] = t\n",
    "\n",
    "n_songs = len(song_dict)"
   ]
  },
  {
   "cell_type": "code",
   "execution_count": 8,
   "metadata": {},
   "outputs": [],
   "source": [
    "plylst['songs_id'] = plylst['songs'].map(lambda x: [song_id_sid.get(s) for s in x if song_id_sid.get(s) != None])\n",
    "plylst['tags_id'] = plylst['tags'].map(lambda x: [tag_id_tid.get(t) for t in x if tag_id_tid.get(t) != None])"
   ]
  },
  {
   "cell_type": "code",
   "execution_count": 9,
   "metadata": {},
   "outputs": [
    {
     "name": "stderr",
     "output_type": "stream",
     "text": [
      "C:\\ProgramData\\Anaconda3\\lib\\site-packages\\pandas\\core\\indexing.py:1596: SettingWithCopyWarning: \n",
      "A value is trying to be set on a copy of a slice from a DataFrame.\n",
      "Try using .loc[row_indexer,col_indexer] = value instead\n",
      "\n",
      "See the caveats in the documentation: https://pandas.pydata.org/pandas-docs/stable/user_guide/indexing.html#returning-a-view-versus-a-copy\n",
      "  self.obj[key] = _infer_fill_value(value)\n",
      "C:\\ProgramData\\Anaconda3\\lib\\site-packages\\pandas\\core\\indexing.py:1745: SettingWithCopyWarning: \n",
      "A value is trying to be set on a copy of a slice from a DataFrame.\n",
      "Try using .loc[row_indexer,col_indexer] = value instead\n",
      "\n",
      "See the caveats in the documentation: https://pandas.pydata.org/pandas-docs/stable/user_guide/indexing.html#returning-a-view-versus-a-copy\n",
      "  isetter(ilocs[0], value)\n"
     ]
    }
   ],
   "source": [
    "plylst_use = plylst[['istrain','nid','updt_date','songs_id','tags_id']]\n",
    "plylst_use.loc[:,'num_songs'] = plylst_use['songs_id'].map(len)\n",
    "plylst_use.loc[:,'num_tags'] = plylst_use['tags_id'].map(len)\n",
    "plylst_use = plylst_use.set_index('nid')"
   ]
  },
  {
   "cell_type": "code",
   "execution_count": 10,
   "metadata": {},
   "outputs": [],
   "source": [
    "plylst_train = plylst_use.iloc[:n_train,:]\n",
    "plylst_test = plylst_use.iloc[n_train:,:]"
   ]
  },
  {
   "cell_type": "code",
   "execution_count": 11,
   "metadata": {},
   "outputs": [],
   "source": [
    "# sample test\n",
    "np.random.seed(33)\n",
    "n_sample = 300\n",
    "\n",
    "test = plylst_test.iloc[np.random.choice(range(n_test), n_sample, replace=False),:]\n",
    "\n",
    "# real test\n",
    "# test = plylst_test\n",
    "# print(len(test))"
   ]
  },
  {
   "cell_type": "code",
   "execution_count": 12,
   "metadata": {},
   "outputs": [],
   "source": [
    "row = np.repeat(range(n_train), plylst_train['num_songs'])\n",
    "col = [song for songs in plylst_train['songs_id'] for song in songs]\n",
    "dat = np.repeat(1, plylst_train['num_songs'].sum())\n",
    "train_songs_A = spr.csr_matrix((dat, (row, col)), shape=(n_train, n_songs))\n",
    "\n",
    "row = np.repeat(range(n_train), plylst_train['num_tags'])\n",
    "col = [tag for tags in plylst_train['tags_id'] for tag in tags]\n",
    "dat = np.repeat(1, plylst_train['num_tags'].sum())\n",
    "train_tags_A = spr.csr_matrix((dat, (row, col)), shape=(n_train, n_tags))"
   ]
  },
  {
   "cell_type": "code",
   "execution_count": 13,
   "metadata": {},
   "outputs": [],
   "source": [
    "train_songs_A_T = train_songs_A.T.tocsr()\n",
    "train_tags_A_T = train_tags_A.T.tocsr()"
   ]
  },
  {
   "cell_type": "code",
   "execution_count": 21,
   "metadata": {},
   "outputs": [
    {
     "name": "stdout",
     "output_type": "stream",
     "text": [
      "  (0, 0)\t1\n",
      "  (0, 2983)\t1\n",
      "  (0, 41152)\t1\n",
      "  (0, 56957)\t1\n",
      "  (0, 84255)\t1\n",
      "  (0, 99726)\t1\n",
      "  (0, 104098)\t1\n",
      "  (1, 0)\t1\n",
      "  (1, 2983)\t1\n",
      "  (1, 44429)\t1\n",
      "  (2, 0)\t1\n",
      "  (3, 0)\t1\n",
      "  (3, 9071)\t1\n",
      "  (3, 9437)\t1\n",
      "  (3, 17009)\t1\n",
      "  (3, 25861)\t1\n",
      "  (3, 35142)\t1\n",
      "  (3, 68471)\t1\n",
      "  (3, 68868)\t1\n",
      "  (3, 70519)\t1\n",
      "  (3, 74228)\t1\n",
      "  (3, 78361)\t1\n",
      "  (3, 82099)\t1\n",
      "  (3, 86245)\t1\n",
      "  (3, 95802)\t1\n",
      "  :\t:\n",
      "  (615117, 115060)\t1\n",
      "  (615118, 115060)\t1\n",
      "  (615119, 115060)\t1\n",
      "  (615120, 115060)\t1\n",
      "  (615121, 115060)\t1\n",
      "  (615122, 115060)\t1\n",
      "  (615123, 115060)\t1\n",
      "  (615124, 115060)\t1\n",
      "  (615125, 115062)\t1\n",
      "  (615126, 115062)\t1\n",
      "  (615127, 115064)\t1\n",
      "  (615128, 115064)\t1\n",
      "  (615129, 115066)\t1\n",
      "  (615130, 115066)\t1\n",
      "  (615131, 115066)\t1\n",
      "  (615132, 115067)\t1\n",
      "  (615133, 115067)\t1\n",
      "  (615134, 115069)\t1\n",
      "  (615135, 115069)\t1\n",
      "  (615136, 115069)\t1\n",
      "  (615137, 115069)\t1\n",
      "  (615138, 115069)\t1\n",
      "  (615139, 115070)\t1\n",
      "  (615140, 115070)\t1\n",
      "  (615141, 115070)\t1\n"
     ]
    }
   ],
   "source": [
    "train_songs_A_T\n",
    "\n",
    "print(train_songs_A_T)"
   ]
  },
  {
   "cell_type": "code",
   "execution_count": null,
   "metadata": {},
   "outputs": [],
   "source": [
    "from tqdm import tqdm\n",
    "\n",
    "def rec(pids):\n",
    "  tt = 1\n",
    "\n",
    "  res = []\n",
    "\n",
    "  for pid in pids:\n",
    "    p = np.zeros((n_songs,1))\n",
    "    p[test.loc[pid,'songs_id']] = 1\n",
    "\n",
    "    val = train_songs_A.dot(p).reshape(-1)\n",
    "\n",
    "    songs_already = test.loc[pid, \"songs_id\"]\n",
    "    tags_already = test.loc[pid, \"tags_id\"]\n",
    "\n",
    "    cand_song = train_songs_A_T.dot(val)\n",
    "    cand_song_idx = cand_song.reshape(-1).argsort()[-150:][::-1]\n",
    "\n",
    "    cand_song_idx = cand_song_idx[np.isin(cand_song_idx, songs_already) == False][:100]\n",
    "    rec_song_idx = [song_sid_id[i] for i in cand_song_idx]\n",
    "\n",
    "    cand_tag = train_tags_A_T.dot(val)\n",
    "    cand_tag_idx = cand_tag.reshape(-1).argsort()[-15:][::-1]\n",
    "\n",
    "    cand_tag_idx = cand_tag_idx[np.isin(cand_tag_idx, tags_already) == False][:10]\n",
    "    rec_tag_idx = [tag_tid_id[i] for i in cand_tag_idx]\n",
    "\n",
    "    res.append({\n",
    "                \"id\": plylst_nid_id[pid],\n",
    "                \"songs\": rec_song_idx,\n",
    "                \"tags\": rec_tag_idx\n",
    "            })\n",
    "    \n",
    "    if tt % 1000 == 0:\n",
    "      print(tt)\n",
    "\n",
    "    tt += 1\n",
    "  return res"
   ]
  },
  {
   "cell_type": "code",
   "execution_count": null,
   "metadata": {},
   "outputs": [],
   "source": [
    "answers = rec(test.index)"
   ]
  },
  {
   "cell_type": "code",
   "execution_count": null,
   "metadata": {},
   "outputs": [],
   "source": [
    "write_json(answers, \"results/results.json\")\n",
    "answers = pd.read_json('data/results/results.json', encoding='UTF-8', typ = 'frame')\n",
    "answers"
   ]
  },
  {
   "cell_type": "code",
   "execution_count": null,
   "metadata": {},
   "outputs": [],
   "source": [
    "questions = pd.read_json('data/val.json', encoding='UTF-8', typ = 'frame')\n",
    "questions"
   ]
  },
  {
   "cell_type": "code",
   "execution_count": null,
   "metadata": {
    "scrolled": false
   },
   "outputs": [],
   "source": [
    "evaluator = CustomEvaluator()\n",
    "evaluator.evaluate(\"data/val.json\", \"data/results/results.json\")\n",
    "\n",
    "for rec in rec_playlists:\n",
    "        gt = gt_dict[rec[\"id\"]]\n",
    "        print(f'{gt[\"songs\"]} ---> {rec[\"songs\"][:100]} ---> {gt[\"tags\"]} ---> {rec[\"tags\"][:10]}')\n",
    "        music_ndcg += self._ndcg(gt[\"songs\"], rec[\"songs\"][:100])\n",
    "        tag_ndcg += self._ndcg(gt[\"tags\"], rec[\"tags\"][:10])"
   ]
  },
  {
   "cell_type": "code",
   "execution_count": null,
   "metadata": {},
   "outputs": [],
   "source": []
  },
  {
   "cell_type": "code",
   "execution_count": null,
   "metadata": {},
   "outputs": [],
   "source": []
  }
 ],
 "metadata": {
  "kernelspec": {
   "display_name": "Python 3",
   "language": "python",
   "name": "python3"
  },
  "language_info": {
   "codemirror_mode": {
    "name": "ipython",
    "version": 3
   },
   "file_extension": ".py",
   "mimetype": "text/x-python",
   "name": "python",
   "nbconvert_exporter": "python",
   "pygments_lexer": "ipython3",
   "version": "3.8.5"
  }
 },
 "nbformat": 4,
 "nbformat_minor": 4
}
