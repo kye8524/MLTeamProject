{
 "cells": [
  {
   "cell_type": "code",
   "execution_count": 5,
   "metadata": {},
   "outputs": [],
   "source": [
    "# 0. 모듈 불러오기\n",
    "\n",
    "import pandas as pd\n",
    "import numpy as np"
   ]
  },
  {
   "cell_type": "code",
   "execution_count": 3,
   "metadata": {},
   "outputs": [],
   "source": [
    "# 1. 데이터 불러오기\n",
    "\n",
    "train_data = pd.read_json('data/train.json', encoding='UTF-8', typ = 'frame')\n",
    "song_meta = pd.read_json('data/song_meta.json', encoding='UTF-8', typ = 'frame')\n",
    "genre_gn_all = pd.read_json('data/genre_gn_all.json',encoding='UTF-8', typ = 'series')\n",
    "genre_gn_all = pd.DataFrame(genre_gn_all, columns = ['gnr_name']).reset_index().rename(columns = {'index' : 'gnr_code'})"
   ]
  },
  {
   "cell_type": "markdown",
   "metadata": {},
   "source": [
    "### 데이터를 확인해보자!"
   ]
  },
  {
   "cell_type": "code",
   "execution_count": 4,
   "metadata": {},
   "outputs": [
    {
     "name": "stdout",
     "output_type": "stream",
     "text": [
      "<class 'pandas.core.frame.DataFrame'>\n",
      "RangeIndex: 115071 entries, 0 to 115070\n",
      "Data columns (total 6 columns):\n",
      " #   Column        Non-Null Count   Dtype \n",
      "---  ------        --------------   ----- \n",
      " 0   tags          115071 non-null  object\n",
      " 1   id            115071 non-null  int64 \n",
      " 2   plylst_title  115071 non-null  object\n",
      " 3   songs         115071 non-null  object\n",
      " 4   like_cnt      115071 non-null  int64 \n",
      " 5   updt_date     115071 non-null  object\n",
      "dtypes: int64(2), object(4)\n",
      "memory usage: 5.3+ MB\n"
     ]
    }
   ],
   "source": [
    "train_data.info()"
   ]
  },
  {
   "cell_type": "code",
   "execution_count": 5,
   "metadata": {},
   "outputs": [
    {
     "name": "stdout",
     "output_type": "stream",
     "text": [
      "<class 'pandas.core.frame.DataFrame'>\n",
      "RangeIndex: 707989 entries, 0 to 707988\n",
      "Data columns (total 9 columns):\n",
      " #   Column                  Non-Null Count   Dtype \n",
      "---  ------                  --------------   ----- \n",
      " 0   song_gn_dtl_gnr_basket  707989 non-null  object\n",
      " 1   issue_date              707989 non-null  int64 \n",
      " 2   album_name              707985 non-null  object\n",
      " 3   album_id                707989 non-null  int64 \n",
      " 4   artist_id_basket        707989 non-null  object\n",
      " 5   song_name               707989 non-null  object\n",
      " 6   song_gn_gnr_basket      707989 non-null  object\n",
      " 7   artist_name_basket      707989 non-null  object\n",
      " 8   id                      707989 non-null  int64 \n",
      "dtypes: int64(3), object(6)\n",
      "memory usage: 48.6+ MB\n"
     ]
    }
   ],
   "source": [
    "song_meta.info()"
   ]
  },
  {
   "cell_type": "code",
   "execution_count": 6,
   "metadata": {},
   "outputs": [
    {
     "name": "stdout",
     "output_type": "stream",
     "text": [
      "<class 'pandas.core.frame.DataFrame'>\n",
      "RangeIndex: 254 entries, 0 to 253\n",
      "Data columns (total 2 columns):\n",
      " #   Column    Non-Null Count  Dtype \n",
      "---  ------    --------------  ----- \n",
      " 0   gnr_code  254 non-null    object\n",
      " 1   gnr_name  254 non-null    object\n",
      "dtypes: object(2)\n",
      "memory usage: 4.1+ KB\n"
     ]
    }
   ],
   "source": [
    "genre_gn_all.info()"
   ]
  },
  {
   "cell_type": "markdown",
   "metadata": {},
   "source": [
    "#### train_data 크기 : 115071 (약 11만)\n",
    "#### song 크기 : 707989 (약 70만)\n",
    "#### genre_gn_all : 254"
   ]
  },
  {
   "cell_type": "code",
   "execution_count": 6,
   "metadata": {},
   "outputs": [
    {
     "data": {
      "text/html": [
       "<div>\n",
       "<style scoped>\n",
       "    .dataframe tbody tr th:only-of-type {\n",
       "        vertical-align: middle;\n",
       "    }\n",
       "\n",
       "    .dataframe tbody tr th {\n",
       "        vertical-align: top;\n",
       "    }\n",
       "\n",
       "    .dataframe thead th {\n",
       "        text-align: right;\n",
       "    }\n",
       "</style>\n",
       "<table border=\"1\" class=\"dataframe\">\n",
       "  <thead>\n",
       "    <tr style=\"text-align: right;\">\n",
       "      <th></th>\n",
       "      <th>tags</th>\n",
       "      <th>id</th>\n",
       "      <th>plylst_title</th>\n",
       "      <th>songs</th>\n",
       "      <th>like_cnt</th>\n",
       "      <th>updt_date</th>\n",
       "    </tr>\n",
       "  </thead>\n",
       "  <tbody>\n",
       "    <tr>\n",
       "      <th>0</th>\n",
       "      <td>[락]</td>\n",
       "      <td>61281</td>\n",
       "      <td>여행같은 음악</td>\n",
       "      <td>[525514, 129701, 383374, 562083, 297861, 13954...</td>\n",
       "      <td>71</td>\n",
       "      <td>2013-12-19 18:36:19.000</td>\n",
       "    </tr>\n",
       "    <tr>\n",
       "      <th>1</th>\n",
       "      <td>[추억, 회상]</td>\n",
       "      <td>10532</td>\n",
       "      <td>요즘 너 말야</td>\n",
       "      <td>[432406, 675945, 497066, 120377, 389529, 24427...</td>\n",
       "      <td>1</td>\n",
       "      <td>2014-12-02 16:19:42.000</td>\n",
       "    </tr>\n",
       "    <tr>\n",
       "      <th>2</th>\n",
       "      <td>[까페, 잔잔한]</td>\n",
       "      <td>76951</td>\n",
       "      <td>편하게, 잔잔하게 들을 수 있는 곡.-</td>\n",
       "      <td>[83116, 276692, 166267, 186301, 354465, 256598...</td>\n",
       "      <td>17</td>\n",
       "      <td>2017-08-28 07:09:34.000</td>\n",
       "    </tr>\n",
       "    <tr>\n",
       "      <th>3</th>\n",
       "      <td>[연말, 눈오는날, 캐럴, 분위기, 따듯한, 크리스마스캐럴, 겨울노래, 크리스마스,...</td>\n",
       "      <td>147456</td>\n",
       "      <td>크리스마스 분위기에 흠뻑 취하고 싶을때</td>\n",
       "      <td>[394031, 195524, 540149, 287984, 440773, 10033...</td>\n",
       "      <td>33</td>\n",
       "      <td>2019-12-05 15:15:18.000</td>\n",
       "    </tr>\n",
       "    <tr>\n",
       "      <th>4</th>\n",
       "      <td>[댄스]</td>\n",
       "      <td>27616</td>\n",
       "      <td>추억의 노래 ㅋ</td>\n",
       "      <td>[159327, 553610, 5130, 645103, 294435, 100657,...</td>\n",
       "      <td>9</td>\n",
       "      <td>2011-10-25 13:54:56.000</td>\n",
       "    </tr>\n",
       "  </tbody>\n",
       "</table>\n",
       "</div>"
      ],
      "text/plain": [
       "                                                tags      id  \\\n",
       "0                                                [락]   61281   \n",
       "1                                           [추억, 회상]   10532   \n",
       "2                                          [까페, 잔잔한]   76951   \n",
       "3  [연말, 눈오는날, 캐럴, 분위기, 따듯한, 크리스마스캐럴, 겨울노래, 크리스마스,...  147456   \n",
       "4                                               [댄스]   27616   \n",
       "\n",
       "            plylst_title                                              songs  \\\n",
       "0                여행같은 음악  [525514, 129701, 383374, 562083, 297861, 13954...   \n",
       "1                요즘 너 말야  [432406, 675945, 497066, 120377, 389529, 24427...   \n",
       "2  편하게, 잔잔하게 들을 수 있는 곡.-  [83116, 276692, 166267, 186301, 354465, 256598...   \n",
       "3  크리스마스 분위기에 흠뻑 취하고 싶을때  [394031, 195524, 540149, 287984, 440773, 10033...   \n",
       "4               추억의 노래 ㅋ  [159327, 553610, 5130, 645103, 294435, 100657,...   \n",
       "\n",
       "   like_cnt                updt_date  \n",
       "0        71  2013-12-19 18:36:19.000  \n",
       "1         1  2014-12-02 16:19:42.000  \n",
       "2        17  2017-08-28 07:09:34.000  \n",
       "3        33  2019-12-05 15:15:18.000  \n",
       "4         9  2011-10-25 13:54:56.000  "
      ]
     },
     "execution_count": 6,
     "metadata": {},
     "output_type": "execute_result"
    }
   ],
   "source": [
    "train_data.head()"
   ]
  },
  {
   "cell_type": "code",
   "execution_count": 11,
   "metadata": {},
   "outputs": [
    {
     "data": {
      "text/plain": [
       "count    707989.000000\n",
       "mean     353994.000000\n",
       "std      204378.964203\n",
       "min           0.000000\n",
       "25%      176997.000000\n",
       "50%      353994.000000\n",
       "75%      530991.000000\n",
       "max      707988.000000\n",
       "Name: id, dtype: float64"
      ]
     },
     "execution_count": 11,
     "metadata": {},
     "output_type": "execute_result"
    }
   ],
   "source": [
    "song_meta['id'].describe()"
   ]
  },
  {
   "cell_type": "code",
   "execution_count": 12,
   "metadata": {},
   "outputs": [
    {
     "data": {
      "text/plain": [
       "count    115071.000000\n",
       "mean      76728.259501\n",
       "std       44313.134619\n",
       "min           1.000000\n",
       "25%       38277.500000\n",
       "50%       76732.000000\n",
       "75%      115061.500000\n",
       "max      153428.000000\n",
       "Name: id, dtype: float64"
      ]
     },
     "execution_count": 12,
     "metadata": {},
     "output_type": "execute_result"
    }
   ],
   "source": [
    "train_data['id'].describe()"
   ]
  },
  {
   "cell_type": "code",
   "execution_count": 7,
   "metadata": {},
   "outputs": [
    {
     "data": {
      "text/html": [
       "<div>\n",
       "<style scoped>\n",
       "    .dataframe tbody tr th:only-of-type {\n",
       "        vertical-align: middle;\n",
       "    }\n",
       "\n",
       "    .dataframe tbody tr th {\n",
       "        vertical-align: top;\n",
       "    }\n",
       "\n",
       "    .dataframe thead th {\n",
       "        text-align: right;\n",
       "    }\n",
       "</style>\n",
       "<table border=\"1\" class=\"dataframe\">\n",
       "  <thead>\n",
       "    <tr style=\"text-align: right;\">\n",
       "      <th></th>\n",
       "      <th>gnr_code</th>\n",
       "      <th>gnr_name</th>\n",
       "    </tr>\n",
       "  </thead>\n",
       "  <tbody>\n",
       "    <tr>\n",
       "      <th>0</th>\n",
       "      <td>GN0100</td>\n",
       "      <td>발라드</td>\n",
       "    </tr>\n",
       "    <tr>\n",
       "      <th>1</th>\n",
       "      <td>GN0101</td>\n",
       "      <td>세부장르전체</td>\n",
       "    </tr>\n",
       "    <tr>\n",
       "      <th>2</th>\n",
       "      <td>GN0102</td>\n",
       "      <td>'80</td>\n",
       "    </tr>\n",
       "    <tr>\n",
       "      <th>3</th>\n",
       "      <td>GN0103</td>\n",
       "      <td>'90</td>\n",
       "    </tr>\n",
       "    <tr>\n",
       "      <th>4</th>\n",
       "      <td>GN0104</td>\n",
       "      <td>'00</td>\n",
       "    </tr>\n",
       "    <tr>\n",
       "      <th>...</th>\n",
       "      <td>...</td>\n",
       "      <td>...</td>\n",
       "    </tr>\n",
       "    <tr>\n",
       "      <th>249</th>\n",
       "      <td>GN2900</td>\n",
       "      <td>뮤지컬</td>\n",
       "    </tr>\n",
       "    <tr>\n",
       "      <th>250</th>\n",
       "      <td>GN2901</td>\n",
       "      <td>세부장르전체</td>\n",
       "    </tr>\n",
       "    <tr>\n",
       "      <th>251</th>\n",
       "      <td>GN2902</td>\n",
       "      <td>국내뮤지컬</td>\n",
       "    </tr>\n",
       "    <tr>\n",
       "      <th>252</th>\n",
       "      <td>GN2903</td>\n",
       "      <td>국외뮤지컬</td>\n",
       "    </tr>\n",
       "    <tr>\n",
       "      <th>253</th>\n",
       "      <td>GN3000</td>\n",
       "      <td>크리스마스</td>\n",
       "    </tr>\n",
       "  </tbody>\n",
       "</table>\n",
       "<p>254 rows × 2 columns</p>\n",
       "</div>"
      ],
      "text/plain": [
       "    gnr_code gnr_name\n",
       "0     GN0100      발라드\n",
       "1     GN0101   세부장르전체\n",
       "2     GN0102      '80\n",
       "3     GN0103      '90\n",
       "4     GN0104      '00\n",
       "..       ...      ...\n",
       "249   GN2900      뮤지컬\n",
       "250   GN2901   세부장르전체\n",
       "251   GN2902    국내뮤지컬\n",
       "252   GN2903    국외뮤지컬\n",
       "253   GN3000    크리스마스\n",
       "\n",
       "[254 rows x 2 columns]"
      ]
     },
     "execution_count": 7,
     "metadata": {},
     "output_type": "execute_result"
    }
   ],
   "source": [
    "genre_gn_all"
   ]
  },
  {
   "cell_type": "markdown",
   "metadata": {
    "pycharm": {
     "name": "#%% md\n"
    }
   },
   "source": [
    "## processed 된 Data load\n",
    "#### carol들로 이루어진 플레이리스트 + carol 들"
   ]
  },
  {
   "cell_type": "code",
   "execution_count": 6,
   "metadata": {
    "pycharm": {
     "name": "#%%\n"
    },
    "scrolled": true
   },
   "outputs": [],
   "source": [
    "import import_ipynb\n",
    "from util import load_json\n",
    "\n",
    "train_playlist = load_json(\"./data/processedData/playlist_train.json\")\n",
    "val_playlist = load_json(\"./data/processedData/playlist_val.json\")\n",
    "test_playlist = load_json(\"./data/processedData/playlist_test.json\")\n",
    "carol_data = load_json(\"./data/processedData/carol_data.json\")\n",
    "train_playlist = pd.DataFrame(eval(train_playlist))\n",
    "val_playlist = pd.DataFrame(eval(val_playlist))\n",
    "test_playlist = pd.DataFrame(eval(test_playlist))\n",
    "carol_data = pd.DataFrame(eval(carol_data))"
   ]
  },
  {
   "cell_type": "code",
   "execution_count": 19,
   "metadata": {
    "pycharm": {
     "name": "#%%\n"
    }
   },
   "outputs": [
    {
     "name": "stdout",
     "output_type": "stream",
     "text": [
      "Num of train_data: 1030\n"
     ]
    },
    {
     "data": {
      "text/html": [
       "<div>\n",
       "<style scoped>\n",
       "    .dataframe tbody tr th:only-of-type {\n",
       "        vertical-align: middle;\n",
       "    }\n",
       "\n",
       "    .dataframe tbody tr th {\n",
       "        vertical-align: top;\n",
       "    }\n",
       "\n",
       "    .dataframe thead th {\n",
       "        text-align: right;\n",
       "    }\n",
       "</style>\n",
       "<table border=\"1\" class=\"dataframe\">\n",
       "  <thead>\n",
       "    <tr style=\"text-align: right;\">\n",
       "      <th></th>\n",
       "      <th>tags</th>\n",
       "      <th>id</th>\n",
       "      <th>plylst_title</th>\n",
       "      <th>songs</th>\n",
       "      <th>like_cnt</th>\n",
       "      <th>updt_date</th>\n",
       "    </tr>\n",
       "  </thead>\n",
       "  <tbody>\n",
       "    <tr>\n",
       "      <th>0</th>\n",
       "      <td>[JPOP, 매장음악, 크리스마스, 일본]</td>\n",
       "      <td>24882</td>\n",
       "      <td>jpop 크리스마스 캐롤 등등</td>\n",
       "      <td>[171751, 25810, 653717, 631818, 486608, 237975...</td>\n",
       "      <td>50</td>\n",
       "      <td>2017-12-17 02:33:47.000</td>\n",
       "    </tr>\n",
       "    <tr>\n",
       "      <th>1</th>\n",
       "      <td>[연말, 겨울감성, 연주곡, 눈, 성탄절, 크리스마스, 설렘, 캐롤, 자장가, 캐롤송]</td>\n",
       "      <td>124080</td>\n",
       "      <td>설레는 크리스마스 캐롤연주곡:)</td>\n",
       "      <td>[220071, 28532, 159001, 329291, 193160, 417231...</td>\n",
       "      <td>8</td>\n",
       "      <td>2018-11-23 23:49:10.000</td>\n",
       "    </tr>\n",
       "    <tr>\n",
       "      <th>2</th>\n",
       "      <td>[겨울, 설렘, 사랑]</td>\n",
       "      <td>15936</td>\n",
       "      <td>☃메리해피✰크리스마스☃</td>\n",
       "      <td>[404382, 456575, 405143, 478191, 245321, 21731...</td>\n",
       "      <td>0</td>\n",
       "      <td>2014-12-22 12:16:33.000</td>\n",
       "    </tr>\n",
       "    <tr>\n",
       "      <th>3</th>\n",
       "      <td>[겨울, 까페]</td>\n",
       "      <td>24535</td>\n",
       "      <td>크리스마스 카페 음악</td>\n",
       "      <td>[357064, 137969, 113394, 628504, 205686, 70626...</td>\n",
       "      <td>145</td>\n",
       "      <td>2013-12-04 12:46:13.000</td>\n",
       "    </tr>\n",
       "    <tr>\n",
       "      <th>4</th>\n",
       "      <td>[겨울, 눈오는날, 파티, 카페, 매장, 드라이브, 여행, 크리스마스, 캐롤, 2016]</td>\n",
       "      <td>44592</td>\n",
       "      <td>크리스마스 캐롤 여행을 떠나요</td>\n",
       "      <td>[355931, 164891, 261338, 52934, 695032, 456704...</td>\n",
       "      <td>15</td>\n",
       "      <td>2016-12-06 01:15:51.000</td>\n",
       "    </tr>\n",
       "  </tbody>\n",
       "</table>\n",
       "</div>"
      ],
      "text/plain": [
       "                                                tags      id  \\\n",
       "0                            [JPOP, 매장음악, 크리스마스, 일본]   24882   \n",
       "1   [연말, 겨울감성, 연주곡, 눈, 성탄절, 크리스마스, 설렘, 캐롤, 자장가, 캐롤송]  124080   \n",
       "2                                       [겨울, 설렘, 사랑]   15936   \n",
       "3                                           [겨울, 까페]   24535   \n",
       "4  [겨울, 눈오는날, 파티, 카페, 매장, 드라이브, 여행, 크리스마스, 캐롤, 2016]   44592   \n",
       "\n",
       "        plylst_title                                              songs  \\\n",
       "0   jpop 크리스마스 캐롤 등등  [171751, 25810, 653717, 631818, 486608, 237975...   \n",
       "1  설레는 크리스마스 캐롤연주곡:)  [220071, 28532, 159001, 329291, 193160, 417231...   \n",
       "2       ☃메리해피✰크리스마스☃  [404382, 456575, 405143, 478191, 245321, 21731...   \n",
       "3        크리스마스 카페 음악  [357064, 137969, 113394, 628504, 205686, 70626...   \n",
       "4   크리스마스 캐롤 여행을 떠나요  [355931, 164891, 261338, 52934, 695032, 456704...   \n",
       "\n",
       "   like_cnt                updt_date  \n",
       "0        50  2017-12-17 02:33:47.000  \n",
       "1         8  2018-11-23 23:49:10.000  \n",
       "2         0  2014-12-22 12:16:33.000  \n",
       "3       145  2013-12-04 12:46:13.000  \n",
       "4        15  2016-12-06 01:15:51.000  "
      ]
     },
     "execution_count": 19,
     "metadata": {},
     "output_type": "execute_result"
    }
   ],
   "source": [
    "print(f'Num of train_data: {len(train_playlist)}')\n",
    "train_playlist.head()"
   ]
  },
  {
   "cell_type": "markdown",
   "metadata": {},
   "source": [
    "#### 우리가 사용할 train_playlist의 songs의 크기 정보!"
   ]
  },
  {
   "cell_type": "code",
   "execution_count": 16,
   "metadata": {},
   "outputs": [
    {
     "data": {
      "text/plain": [
       "count    1030.000000\n",
       "mean       34.850485\n",
       "std        36.672492\n",
       "min         6.000000\n",
       "25%        10.000000\n",
       "50%        21.000000\n",
       "75%        42.000000\n",
       "max       200.000000\n",
       "Name: num_songs, dtype: float64"
      ]
     },
     "execution_count": 16,
     "metadata": {},
     "output_type": "execute_result"
    }
   ],
   "source": [
    "from collections import Counter\n",
    "\n",
    "train_copy = train_playlist.copy()\n",
    "\n",
    "train_copy['songs_id'] = train_copy['songs'].map(lambda x: [song_id_sid.get(s) for s in x if song_id_sid.get(s) != None])\n",
    "\n",
    "plylst_song = train_copy['songs']\n",
    "song_counter = Counter([sg for sgs in plylst_song for sg in sgs])\n",
    "song_dict = {x: song_counter[x] for x in song_counter}\n",
    "\n",
    "song_id_sid = dict()\n",
    "song_sid_id = dict()\n",
    "for i, t in enumerate(song_dict):\n",
    "  song_id_sid[t] = i\n",
    "  song_sid_id[i] = t\n",
    "\n",
    "train_copy.loc[:,'num_songs'] = train_copy['songs_id'].map(len)\n",
    "\n",
    "train_copy['num_songs'].describe()"
   ]
  },
  {
   "cell_type": "code",
   "execution_count": 22,
   "metadata": {
    "pycharm": {
     "name": "#%%\n"
    },
    "scrolled": true
   },
   "outputs": [
    {
     "name": "stdout",
     "output_type": "stream",
     "text": [
      "Num of carol_data: 15050\n"
     ]
    },
    {
     "data": {
      "text/html": [
       "<div>\n",
       "<style scoped>\n",
       "    .dataframe tbody tr th:only-of-type {\n",
       "        vertical-align: middle;\n",
       "    }\n",
       "\n",
       "    .dataframe tbody tr th {\n",
       "        vertical-align: top;\n",
       "    }\n",
       "\n",
       "    .dataframe thead th {\n",
       "        text-align: right;\n",
       "    }\n",
       "</style>\n",
       "<table border=\"1\" class=\"dataframe\">\n",
       "  <thead>\n",
       "    <tr style=\"text-align: right;\">\n",
       "      <th></th>\n",
       "      <th>song_gn_dtl_gnr_basket</th>\n",
       "      <th>issue_date</th>\n",
       "      <th>album_name</th>\n",
       "      <th>album_id</th>\n",
       "      <th>artist_id_basket</th>\n",
       "      <th>song_name</th>\n",
       "      <th>song_gn_gnr_basket</th>\n",
       "      <th>artist_name_basket</th>\n",
       "      <th>id</th>\n",
       "    </tr>\n",
       "  </thead>\n",
       "  <tbody>\n",
       "    <tr>\n",
       "      <th>0</th>\n",
       "      <td>[GN1601, GN1615, GN1610]</td>\n",
       "      <td>20171006</td>\n",
       "      <td>Christmas at Westminster Abbey</td>\n",
       "      <td>10104201</td>\n",
       "      <td>[345328, 36652, 347399]</td>\n",
       "      <td>Anonymous: Up! Awake! From Highest Steeple - A...</td>\n",
       "      <td>[GN1600]</td>\n",
       "      <td>[Choir Of Westminster Abbey, Simon Preston, Ch...</td>\n",
       "      <td>23</td>\n",
       "    </tr>\n",
       "    <tr>\n",
       "      <th>1</th>\n",
       "      <td>[GN1701, GN1703, GN1702]</td>\n",
       "      <td>20121109</td>\n",
       "      <td>Christmas (Deluxe Special Edition)</td>\n",
       "      <td>2167838</td>\n",
       "      <td>[35370]</td>\n",
       "      <td>Mis Deseos \\/ Feliz Navidad (with Thalia)</td>\n",
       "      <td>[GN1700]</td>\n",
       "      <td>[Michael Buble]</td>\n",
       "      <td>41</td>\n",
       "    </tr>\n",
       "    <tr>\n",
       "      <th>2</th>\n",
       "      <td>[GN0101]</td>\n",
       "      <td>20190408</td>\n",
       "      <td>있어줄래</td>\n",
       "      <td>10271322</td>\n",
       "      <td>[500421]</td>\n",
       "      <td>있어줄래</td>\n",
       "      <td>[GN0100]</td>\n",
       "      <td>[길구봉구]</td>\n",
       "      <td>54</td>\n",
       "    </tr>\n",
       "    <tr>\n",
       "      <th>3</th>\n",
       "      <td>[GN0105, GN0101]</td>\n",
       "      <td>20121204</td>\n",
       "      <td>WINTER POETRY</td>\n",
       "      <td>2169041</td>\n",
       "      <td>[1741]</td>\n",
       "      <td>너에게 전하지 못한 말</td>\n",
       "      <td>[GN0100]</td>\n",
       "      <td>[신혜성]</td>\n",
       "      <td>70</td>\n",
       "    </tr>\n",
       "    <tr>\n",
       "      <th>4</th>\n",
       "      <td>[GN1304, GN1301]</td>\n",
       "      <td>20110810</td>\n",
       "      <td>Simple Steps</td>\n",
       "      <td>2058451</td>\n",
       "      <td>[614091]</td>\n",
       "      <td>Rollercoaster</td>\n",
       "      <td>[GN1300]</td>\n",
       "      <td>[Sam Ock]</td>\n",
       "      <td>71</td>\n",
       "    </tr>\n",
       "  </tbody>\n",
       "</table>\n",
       "</div>"
      ],
      "text/plain": [
       "     song_gn_dtl_gnr_basket  issue_date                          album_name  \\\n",
       "0  [GN1601, GN1615, GN1610]    20171006      Christmas at Westminster Abbey   \n",
       "1  [GN1701, GN1703, GN1702]    20121109  Christmas (Deluxe Special Edition)   \n",
       "2                  [GN0101]    20190408                                있어줄래   \n",
       "3          [GN0105, GN0101]    20121204                       WINTER POETRY   \n",
       "4          [GN1304, GN1301]    20110810                        Simple Steps   \n",
       "\n",
       "   album_id         artist_id_basket  \\\n",
       "0  10104201  [345328, 36652, 347399]   \n",
       "1   2167838                  [35370]   \n",
       "2  10271322                 [500421]   \n",
       "3   2169041                   [1741]   \n",
       "4   2058451                 [614091]   \n",
       "\n",
       "                                           song_name song_gn_gnr_basket  \\\n",
       "0  Anonymous: Up! Awake! From Highest Steeple - A...           [GN1600]   \n",
       "1          Mis Deseos \\/ Feliz Navidad (with Thalia)           [GN1700]   \n",
       "2                                               있어줄래           [GN0100]   \n",
       "3                                       너에게 전하지 못한 말           [GN0100]   \n",
       "4                                      Rollercoaster           [GN1300]   \n",
       "\n",
       "                                  artist_name_basket  id  \n",
       "0  [Choir Of Westminster Abbey, Simon Preston, Ch...  23  \n",
       "1                                    [Michael Buble]  41  \n",
       "2                                             [길구봉구]  54  \n",
       "3                                              [신혜성]  70  \n",
       "4                                          [Sam Ock]  71  "
      ]
     },
     "execution_count": 22,
     "metadata": {},
     "output_type": "execute_result"
    }
   ],
   "source": [
    "print(f'Num of carol_data: {len(carol_data)}')\n",
    "carol_data.head()"
   ]
  },
  {
   "cell_type": "code",
   "execution_count": 20,
   "metadata": {
    "pycharm": {
     "name": "#%%\n"
    }
   },
   "outputs": [
    {
     "name": "stdout",
     "output_type": "stream",
     "text": [
      "Num of validation_data: 258\n"
     ]
    },
    {
     "data": {
      "text/html": [
       "<div>\n",
       "<style scoped>\n",
       "    .dataframe tbody tr th:only-of-type {\n",
       "        vertical-align: middle;\n",
       "    }\n",
       "\n",
       "    .dataframe tbody tr th {\n",
       "        vertical-align: top;\n",
       "    }\n",
       "\n",
       "    .dataframe thead th {\n",
       "        text-align: right;\n",
       "    }\n",
       "</style>\n",
       "<table border=\"1\" class=\"dataframe\">\n",
       "  <thead>\n",
       "    <tr style=\"text-align: right;\">\n",
       "      <th></th>\n",
       "      <th>tags</th>\n",
       "      <th>id</th>\n",
       "      <th>plylst_title</th>\n",
       "      <th>songs</th>\n",
       "      <th>like_cnt</th>\n",
       "      <th>updt_date</th>\n",
       "    </tr>\n",
       "  </thead>\n",
       "  <tbody>\n",
       "    <tr>\n",
       "      <th>0</th>\n",
       "      <td>[연인, 겨울, 크리스마스]</td>\n",
       "      <td>70701</td>\n",
       "      <td>크리스마스에 들으면 기분좋아지는노래</td>\n",
       "      <td>[397351, 410185, 595353, 187149, 326204, 17496...</td>\n",
       "      <td>2</td>\n",
       "      <td>2017-12-26 09:59:58.000</td>\n",
       "    </tr>\n",
       "    <tr>\n",
       "      <th>1</th>\n",
       "      <td>[달콤, 따뜻, 달달, 핑크핑크, 케이크, 크리스마스]</td>\n",
       "      <td>120113</td>\n",
       "      <td>크리스마스 케이크 같은 달달 따뜻한 음악</td>\n",
       "      <td>[613003, 95485, 581552, 686406, 692454, 432211...</td>\n",
       "      <td>3</td>\n",
       "      <td>2016-12-06 16:38:56.000</td>\n",
       "    </tr>\n",
       "    <tr>\n",
       "      <th>2</th>\n",
       "      <td>[달달한노래, 메리크리스마스, 연인, 행복, 크리스마스, 사랑]</td>\n",
       "      <td>146012</td>\n",
       "      <td>크리스마스 연인들을 위한 노래 요기있어요!</td>\n",
       "      <td>[614187, 572996, 404950, 563199, 600640, 24840...</td>\n",
       "      <td>4</td>\n",
       "      <td>2016-12-24 13:51:31.000</td>\n",
       "    </tr>\n",
       "    <tr>\n",
       "      <th>3</th>\n",
       "      <td>[휴식, 발라드]</td>\n",
       "      <td>113900</td>\n",
       "      <td>크리스마스125</td>\n",
       "      <td>[405485, 381653, 566122, 546313, 158539, 68697...</td>\n",
       "      <td>0</td>\n",
       "      <td>2019-11-19 11:37:06.000</td>\n",
       "    </tr>\n",
       "    <tr>\n",
       "      <th>4</th>\n",
       "      <td>[휴식, 잔잔한]</td>\n",
       "      <td>28001</td>\n",
       "      <td>크리스마스54</td>\n",
       "      <td>[405485, 381653, 566122, 546313, 158539, 68697...</td>\n",
       "      <td>0</td>\n",
       "      <td>2019-11-19 11:06:50.000</td>\n",
       "    </tr>\n",
       "  </tbody>\n",
       "</table>\n",
       "</div>"
      ],
      "text/plain": [
       "                                  tags      id             plylst_title  \\\n",
       "0                      [연인, 겨울, 크리스마스]   70701      크리스마스에 들으면 기분좋아지는노래   \n",
       "1       [달콤, 따뜻, 달달, 핑크핑크, 케이크, 크리스마스]  120113   크리스마스 케이크 같은 달달 따뜻한 음악   \n",
       "2  [달달한노래, 메리크리스마스, 연인, 행복, 크리스마스, 사랑]  146012  크리스마스 연인들을 위한 노래 요기있어요!   \n",
       "3                            [휴식, 발라드]  113900                 크리스마스125   \n",
       "4                            [휴식, 잔잔한]   28001                  크리스마스54   \n",
       "\n",
       "                                               songs  like_cnt  \\\n",
       "0  [397351, 410185, 595353, 187149, 326204, 17496...         2   \n",
       "1  [613003, 95485, 581552, 686406, 692454, 432211...         3   \n",
       "2  [614187, 572996, 404950, 563199, 600640, 24840...         4   \n",
       "3  [405485, 381653, 566122, 546313, 158539, 68697...         0   \n",
       "4  [405485, 381653, 566122, 546313, 158539, 68697...         0   \n",
       "\n",
       "                 updt_date  \n",
       "0  2017-12-26 09:59:58.000  \n",
       "1  2016-12-06 16:38:56.000  \n",
       "2  2016-12-24 13:51:31.000  \n",
       "3  2019-11-19 11:37:06.000  \n",
       "4  2019-11-19 11:06:50.000  "
      ]
     },
     "execution_count": 20,
     "metadata": {},
     "output_type": "execute_result"
    }
   ],
   "source": [
    "print(f'Num of validation_data: {len(val_playlist)}')\n",
    "val_playlist.head()"
   ]
  },
  {
   "cell_type": "code",
   "execution_count": 21,
   "metadata": {
    "pycharm": {
     "name": "#%%\n"
    }
   },
   "outputs": [
    {
     "name": "stdout",
     "output_type": "stream",
     "text": [
      "Num of test_data: 322\n"
     ]
    },
    {
     "data": {
      "text/html": [
       "<div>\n",
       "<style scoped>\n",
       "    .dataframe tbody tr th:only-of-type {\n",
       "        vertical-align: middle;\n",
       "    }\n",
       "\n",
       "    .dataframe tbody tr th {\n",
       "        vertical-align: top;\n",
       "    }\n",
       "\n",
       "    .dataframe thead th {\n",
       "        text-align: right;\n",
       "    }\n",
       "</style>\n",
       "<table border=\"1\" class=\"dataframe\">\n",
       "  <thead>\n",
       "    <tr style=\"text-align: right;\">\n",
       "      <th></th>\n",
       "      <th>tags</th>\n",
       "      <th>id</th>\n",
       "      <th>plylst_title</th>\n",
       "      <th>songs</th>\n",
       "      <th>like_cnt</th>\n",
       "      <th>updt_date</th>\n",
       "    </tr>\n",
       "  </thead>\n",
       "  <tbody>\n",
       "    <tr>\n",
       "      <th>0</th>\n",
       "      <td>[기분전환, 드라이브]</td>\n",
       "      <td>115037</td>\n",
       "      <td>크리스마스387</td>\n",
       "      <td>[405485, 381653, 566122, 546313, 158539, 68697...</td>\n",
       "      <td>0</td>\n",
       "      <td>2019-11-19 15:10:15.000</td>\n",
       "    </tr>\n",
       "    <tr>\n",
       "      <th>1</th>\n",
       "      <td>[드라이브, 발라드]</td>\n",
       "      <td>22805</td>\n",
       "      <td>크리스마스204</td>\n",
       "      <td>[405485, 381653, 566122, 546313, 158539, 68697...</td>\n",
       "      <td>0</td>\n",
       "      <td>2019-11-19 13:22:15.000</td>\n",
       "    </tr>\n",
       "    <tr>\n",
       "      <th>2</th>\n",
       "      <td>[재즈, 캐롤, 한여름]</td>\n",
       "      <td>28570</td>\n",
       "      <td>한여름의 크리스마스 재즈 캐롤?!</td>\n",
       "      <td>[262793, 226323, 40371, 50235, 523943, 377551,...</td>\n",
       "      <td>1</td>\n",
       "      <td>2016-07-14 10:19:53.000</td>\n",
       "    </tr>\n",
       "    <tr>\n",
       "      <th>3</th>\n",
       "      <td>[겨울]</td>\n",
       "      <td>57791</td>\n",
       "      <td>[크리스마스 캐롤모음]</td>\n",
       "      <td>[226670, 404382, 653711, 370785, 662376, 64336...</td>\n",
       "      <td>82</td>\n",
       "      <td>2008-12-08 23:52:43.000</td>\n",
       "    </tr>\n",
       "    <tr>\n",
       "      <th>4</th>\n",
       "      <td>[기분전환, 잔잔한]</td>\n",
       "      <td>25370</td>\n",
       "      <td>크리스마스138</td>\n",
       "      <td>[405485, 381653, 566122, 546313, 158539, 68697...</td>\n",
       "      <td>0</td>\n",
       "      <td>2019-11-19 11:41:15.000</td>\n",
       "    </tr>\n",
       "  </tbody>\n",
       "</table>\n",
       "</div>"
      ],
      "text/plain": [
       "            tags      id        plylst_title  \\\n",
       "0   [기분전환, 드라이브]  115037            크리스마스387   \n",
       "1    [드라이브, 발라드]   22805            크리스마스204   \n",
       "2  [재즈, 캐롤, 한여름]   28570  한여름의 크리스마스 재즈 캐롤?!   \n",
       "3           [겨울]   57791        [크리스마스 캐롤모음]   \n",
       "4    [기분전환, 잔잔한]   25370            크리스마스138   \n",
       "\n",
       "                                               songs  like_cnt  \\\n",
       "0  [405485, 381653, 566122, 546313, 158539, 68697...         0   \n",
       "1  [405485, 381653, 566122, 546313, 158539, 68697...         0   \n",
       "2  [262793, 226323, 40371, 50235, 523943, 377551,...         1   \n",
       "3  [226670, 404382, 653711, 370785, 662376, 64336...        82   \n",
       "4  [405485, 381653, 566122, 546313, 158539, 68697...         0   \n",
       "\n",
       "                 updt_date  \n",
       "0  2019-11-19 15:10:15.000  \n",
       "1  2019-11-19 13:22:15.000  \n",
       "2  2016-07-14 10:19:53.000  \n",
       "3  2008-12-08 23:52:43.000  \n",
       "4  2019-11-19 11:41:15.000  "
      ]
     },
     "execution_count": 21,
     "metadata": {},
     "output_type": "execute_result"
    }
   ],
   "source": [
    "print(f'Num of test_data: {len(test_playlist)}')\n",
    "test_playlist.head()"
   ]
  }
 ],
 "metadata": {
  "kernelspec": {
   "display_name": "Python 3",
   "language": "python",
   "name": "python3"
  },
  "language_info": {
   "codemirror_mode": {
    "name": "ipython",
    "version": 3
   },
   "file_extension": ".py",
   "mimetype": "text/x-python",
   "name": "python",
   "nbconvert_exporter": "python",
   "pygments_lexer": "ipython3",
   "version": "3.8.5"
  }
 },
 "nbformat": 4,
 "nbformat_minor": 4
}
