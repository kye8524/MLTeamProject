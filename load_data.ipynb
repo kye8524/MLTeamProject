{
 "cells": [
  {
   "cell_type": "code",
   "execution_count": 2,
   "metadata": {},
   "outputs": [],
   "source": [
    "# 0. 모듈 불러오기\n",
    "\n",
    "import pandas as pd\n",
    "import numpy as np"
   ]
  },
  {
   "cell_type": "code",
   "execution_count": 3,
   "metadata": {},
   "outputs": [],
   "source": [
    "# 1. 데이터 불러오기\n",
    "\n",
    "train_data = pd.read_json('data/train.json', encoding='UTF-8', typ = 'frame')\n",
    "song_meta = pd.read_json('data/song_meta.json', encoding='UTF-8', typ = 'frame')\n",
    "genre_gn_all = pd.read_json('data/genre_gn_all.json',encoding='UTF-8', typ = 'series')\n",
    "genre_gn_all = pd.DataFrame(genre_gn_all, columns = ['gnr_name']).reset_index().rename(columns = {'index' : 'gnr_code'})"
   ]
  },
  {
   "cell_type": "markdown",
   "metadata": {},
   "source": [
    "### 데이터를 확인해보자!"
   ]
  },
  {
   "cell_type": "code",
   "execution_count": 4,
   "metadata": {},
   "outputs": [
    {
     "name": "stdout",
     "output_type": "stream",
     "text": [
      "<class 'pandas.core.frame.DataFrame'>\n",
      "RangeIndex: 115071 entries, 0 to 115070\n",
      "Data columns (total 6 columns):\n",
      " #   Column        Non-Null Count   Dtype \n",
      "---  ------        --------------   ----- \n",
      " 0   tags          115071 non-null  object\n",
      " 1   id            115071 non-null  int64 \n",
      " 2   plylst_title  115071 non-null  object\n",
      " 3   songs         115071 non-null  object\n",
      " 4   like_cnt      115071 non-null  int64 \n",
      " 5   updt_date     115071 non-null  object\n",
      "dtypes: int64(2), object(4)\n",
      "memory usage: 5.3+ MB\n"
     ]
    }
   ],
   "source": [
    "train_data.info()"
   ]
  },
  {
   "cell_type": "code",
   "execution_count": 5,
   "metadata": {},
   "outputs": [
    {
     "name": "stdout",
     "output_type": "stream",
     "text": [
      "<class 'pandas.core.frame.DataFrame'>\n",
      "RangeIndex: 707989 entries, 0 to 707988\n",
      "Data columns (total 9 columns):\n",
      " #   Column                  Non-Null Count   Dtype \n",
      "---  ------                  --------------   ----- \n",
      " 0   song_gn_dtl_gnr_basket  707989 non-null  object\n",
      " 1   issue_date              707989 non-null  int64 \n",
      " 2   album_name              707985 non-null  object\n",
      " 3   album_id                707989 non-null  int64 \n",
      " 4   artist_id_basket        707989 non-null  object\n",
      " 5   song_name               707989 non-null  object\n",
      " 6   song_gn_gnr_basket      707989 non-null  object\n",
      " 7   artist_name_basket      707989 non-null  object\n",
      " 8   id                      707989 non-null  int64 \n",
      "dtypes: int64(3), object(6)\n",
      "memory usage: 48.6+ MB\n"
     ]
    }
   ],
   "source": [
    "song_meta.info()"
   ]
  },
  {
   "cell_type": "code",
   "execution_count": 6,
   "metadata": {},
   "outputs": [
    {
     "name": "stdout",
     "output_type": "stream",
     "text": [
      "<class 'pandas.core.frame.DataFrame'>\n",
      "RangeIndex: 254 entries, 0 to 253\n",
      "Data columns (total 2 columns):\n",
      " #   Column    Non-Null Count  Dtype \n",
      "---  ------    --------------  ----- \n",
      " 0   gnr_code  254 non-null    object\n",
      " 1   gnr_name  254 non-null    object\n",
      "dtypes: object(2)\n",
      "memory usage: 4.1+ KB\n"
     ]
    }
   ],
   "source": [
    "genre_gn_all.info()"
   ]
  },
  {
   "cell_type": "markdown",
   "metadata": {},
   "source": [
    "#### train_data 크기 : 115071 (약 11만)\n",
    "#### song 크기 : 707989 (약 70만)\n",
    "#### genre_gn_all : 254"
   ]
  },
  {
   "cell_type": "code",
   "execution_count": 6,
   "metadata": {},
   "outputs": [
    {
     "data": {
      "text/html": [
       "<div>\n",
       "<style scoped>\n",
       "    .dataframe tbody tr th:only-of-type {\n",
       "        vertical-align: middle;\n",
       "    }\n",
       "\n",
       "    .dataframe tbody tr th {\n",
       "        vertical-align: top;\n",
       "    }\n",
       "\n",
       "    .dataframe thead th {\n",
       "        text-align: right;\n",
       "    }\n",
       "</style>\n",
       "<table border=\"1\" class=\"dataframe\">\n",
       "  <thead>\n",
       "    <tr style=\"text-align: right;\">\n",
       "      <th></th>\n",
       "      <th>tags</th>\n",
       "      <th>id</th>\n",
       "      <th>plylst_title</th>\n",
       "      <th>songs</th>\n",
       "      <th>like_cnt</th>\n",
       "      <th>updt_date</th>\n",
       "    </tr>\n",
       "  </thead>\n",
       "  <tbody>\n",
       "    <tr>\n",
       "      <th>0</th>\n",
       "      <td>[락]</td>\n",
       "      <td>61281</td>\n",
       "      <td>여행같은 음악</td>\n",
       "      <td>[525514, 129701, 383374, 562083, 297861, 13954...</td>\n",
       "      <td>71</td>\n",
       "      <td>2013-12-19 18:36:19.000</td>\n",
       "    </tr>\n",
       "    <tr>\n",
       "      <th>1</th>\n",
       "      <td>[추억, 회상]</td>\n",
       "      <td>10532</td>\n",
       "      <td>요즘 너 말야</td>\n",
       "      <td>[432406, 675945, 497066, 120377, 389529, 24427...</td>\n",
       "      <td>1</td>\n",
       "      <td>2014-12-02 16:19:42.000</td>\n",
       "    </tr>\n",
       "    <tr>\n",
       "      <th>2</th>\n",
       "      <td>[까페, 잔잔한]</td>\n",
       "      <td>76951</td>\n",
       "      <td>편하게, 잔잔하게 들을 수 있는 곡.-</td>\n",
       "      <td>[83116, 276692, 166267, 186301, 354465, 256598...</td>\n",
       "      <td>17</td>\n",
       "      <td>2017-08-28 07:09:34.000</td>\n",
       "    </tr>\n",
       "    <tr>\n",
       "      <th>3</th>\n",
       "      <td>[연말, 눈오는날, 캐럴, 분위기, 따듯한, 크리스마스캐럴, 겨울노래, 크리스마스,...</td>\n",
       "      <td>147456</td>\n",
       "      <td>크리스마스 분위기에 흠뻑 취하고 싶을때</td>\n",
       "      <td>[394031, 195524, 540149, 287984, 440773, 10033...</td>\n",
       "      <td>33</td>\n",
       "      <td>2019-12-05 15:15:18.000</td>\n",
       "    </tr>\n",
       "    <tr>\n",
       "      <th>4</th>\n",
       "      <td>[댄스]</td>\n",
       "      <td>27616</td>\n",
       "      <td>추억의 노래 ㅋ</td>\n",
       "      <td>[159327, 553610, 5130, 645103, 294435, 100657,...</td>\n",
       "      <td>9</td>\n",
       "      <td>2011-10-25 13:54:56.000</td>\n",
       "    </tr>\n",
       "  </tbody>\n",
       "</table>\n",
       "</div>"
      ],
      "text/plain": [
       "                                                tags      id  \\\n",
       "0                                                [락]   61281   \n",
       "1                                           [추억, 회상]   10532   \n",
       "2                                          [까페, 잔잔한]   76951   \n",
       "3  [연말, 눈오는날, 캐럴, 분위기, 따듯한, 크리스마스캐럴, 겨울노래, 크리스마스,...  147456   \n",
       "4                                               [댄스]   27616   \n",
       "\n",
       "            plylst_title                                              songs  \\\n",
       "0                여행같은 음악  [525514, 129701, 383374, 562083, 297861, 13954...   \n",
       "1                요즘 너 말야  [432406, 675945, 497066, 120377, 389529, 24427...   \n",
       "2  편하게, 잔잔하게 들을 수 있는 곡.-  [83116, 276692, 166267, 186301, 354465, 256598...   \n",
       "3  크리스마스 분위기에 흠뻑 취하고 싶을때  [394031, 195524, 540149, 287984, 440773, 10033...   \n",
       "4               추억의 노래 ㅋ  [159327, 553610, 5130, 645103, 294435, 100657,...   \n",
       "\n",
       "   like_cnt                updt_date  \n",
       "0        71  2013-12-19 18:36:19.000  \n",
       "1         1  2014-12-02 16:19:42.000  \n",
       "2        17  2017-08-28 07:09:34.000  \n",
       "3        33  2019-12-05 15:15:18.000  \n",
       "4         9  2011-10-25 13:54:56.000  "
      ]
     },
     "execution_count": 6,
     "metadata": {},
     "output_type": "execute_result"
    }
   ],
   "source": [
    "train_data.head()"
   ]
  },
  {
   "cell_type": "code",
   "execution_count": 11,
   "metadata": {},
   "outputs": [
    {
     "data": {
      "text/plain": [
       "count    707989.000000\n",
       "mean     353994.000000\n",
       "std      204378.964203\n",
       "min           0.000000\n",
       "25%      176997.000000\n",
       "50%      353994.000000\n",
       "75%      530991.000000\n",
       "max      707988.000000\n",
       "Name: id, dtype: float64"
      ]
     },
     "execution_count": 11,
     "metadata": {},
     "output_type": "execute_result"
    }
   ],
   "source": [
    "song_meta['id'].describe()"
   ]
  },
  {
   "cell_type": "code",
   "execution_count": 12,
   "metadata": {},
   "outputs": [
    {
     "data": {
      "text/plain": [
       "count    115071.000000\n",
       "mean      76728.259501\n",
       "std       44313.134619\n",
       "min           1.000000\n",
       "25%       38277.500000\n",
       "50%       76732.000000\n",
       "75%      115061.500000\n",
       "max      153428.000000\n",
       "Name: id, dtype: float64"
      ]
     },
     "execution_count": 12,
     "metadata": {},
     "output_type": "execute_result"
    }
   ],
   "source": [
    "train_data['id'].describe()"
   ]
  },
  {
   "cell_type": "code",
   "execution_count": 7,
   "metadata": {},
   "outputs": [
    {
     "data": {
      "text/plain": "    gnr_code gnr_name\n0     GN0100      발라드\n1     GN0101   세부장르전체\n2     GN0102      '80\n3     GN0103      '90\n4     GN0104      '00\n..       ...      ...\n249   GN2900      뮤지컬\n250   GN2901   세부장르전체\n251   GN2902    국내뮤지컬\n252   GN2903    국외뮤지컬\n253   GN3000    크리스마스\n\n[254 rows x 2 columns]",
      "text/html": "<div>\n<style scoped>\n    .dataframe tbody tr th:only-of-type {\n        vertical-align: middle;\n    }\n\n    .dataframe tbody tr th {\n        vertical-align: top;\n    }\n\n    .dataframe thead th {\n        text-align: right;\n    }\n</style>\n<table border=\"1\" class=\"dataframe\">\n  <thead>\n    <tr style=\"text-align: right;\">\n      <th></th>\n      <th>gnr_code</th>\n      <th>gnr_name</th>\n    </tr>\n  </thead>\n  <tbody>\n    <tr>\n      <th>0</th>\n      <td>GN0100</td>\n      <td>발라드</td>\n    </tr>\n    <tr>\n      <th>1</th>\n      <td>GN0101</td>\n      <td>세부장르전체</td>\n    </tr>\n    <tr>\n      <th>2</th>\n      <td>GN0102</td>\n      <td>'80</td>\n    </tr>\n    <tr>\n      <th>3</th>\n      <td>GN0103</td>\n      <td>'90</td>\n    </tr>\n    <tr>\n      <th>4</th>\n      <td>GN0104</td>\n      <td>'00</td>\n    </tr>\n    <tr>\n      <th>...</th>\n      <td>...</td>\n      <td>...</td>\n    </tr>\n    <tr>\n      <th>249</th>\n      <td>GN2900</td>\n      <td>뮤지컬</td>\n    </tr>\n    <tr>\n      <th>250</th>\n      <td>GN2901</td>\n      <td>세부장르전체</td>\n    </tr>\n    <tr>\n      <th>251</th>\n      <td>GN2902</td>\n      <td>국내뮤지컬</td>\n    </tr>\n    <tr>\n      <th>252</th>\n      <td>GN2903</td>\n      <td>국외뮤지컬</td>\n    </tr>\n    <tr>\n      <th>253</th>\n      <td>GN3000</td>\n      <td>크리스마스</td>\n    </tr>\n  </tbody>\n</table>\n<p>254 rows × 2 columns</p>\n</div>"
     },
     "execution_count": 7,
     "metadata": {},
     "output_type": "execute_result"
    }
   ],
   "source": [
    "genre_gn_all"
   ]
  },
  {
   "cell_type": "markdown",
   "source": [
    "## processed 된 Data load\n",
    "#### carol들로 이루어진 플레이리스트 + carol 들"
   ],
   "metadata": {
    "collapsed": false,
    "pycharm": {
     "name": "#%% md\n"
    }
   }
  },
  {
   "cell_type": "code",
   "execution_count": 21,
   "outputs": [],
   "source": [
    "import import_ipynb\n",
    "from util import load_json\n",
    "\n",
    "train_playlist = load_json(\"./data/processedData/playlist_train.json\")\n",
    "val_playlist = load_json(\"./data/processedData/playlist_val.json\")\n",
    "test_playlist = load_json(\"./data/processedData/playlist_test.json\")\n",
    "carol_data = load_json(\"./data/processedData/carol_data.json\")\n",
    "train_playlist = pd.DataFrame(eval(train_playlist))\n",
    "val_playlist = pd.DataFrame(eval(val_playlist))\n",
    "test_playlist = pd.DataFrame(eval(test_playlist))\n",
    "carol_data = pd.DataFrame(eval(carol_data))"
   ],
   "metadata": {
    "collapsed": false,
    "pycharm": {
     "name": "#%%\n"
    }
   }
  },
  {
   "cell_type": "code",
   "execution_count": 27,
   "outputs": [
    {
     "name": "stdout",
     "output_type": "stream",
     "text": [
      "1030\n"
     ]
    },
    {
     "data": {
      "text/plain": "                                                tags      id  \\\n0  [연말, 분위기, 겨울, 성탄절, Christmas, 기분전환, 크리스마스, 캐롤,...   67590   \n1                                           [솔로, 눈물]   67478   \n2         [겨울, 겨울감성, 캐럴, 아이돌, 걸그룹, 크리스마스, 보이그룹, 신나는]  135680   \n3                                  [명곡, 홀리데이, 크리스마스]   71752   \n4  [기분좋은, 연말, 감성, 크리스마스이브, 달달한, 성탄절, 크리스마스노래, 설렘노...   40876   \n\n               plylst_title  \\\n0        크리스마스 분위기 같이 느껴볼래?   \n1               솔로 크리스마스..    \n2  포근한 크리스마스 분위기 더해줄 아이돌 캐럴   \n3                   크리스마스니까   \n4         나만의 크리스마스 느낌 노래들_   \n\n                                               songs  like_cnt  \\\n0  [404160, 424080, 172734, 677560, 387859, 22667...        16   \n1  [546793, 547185, 272539, 253755, 425758, 32911...         8   \n2  [262202, 112399, 187149, 326204, 345728, 16197...         6   \n3  [704789, 568514, 18973, 79517, 667770, 139082,...         8   \n4  [387859, 226670, 359615, 416029, 653711, 53504...         7   \n\n                 updt_date  \n0  2019-12-25 10:32:37.000  \n1  2016-12-24 02:50:30.000  \n2  2019-11-26 11:12:40.000  \n3  2018-12-20 15:10:57.000  \n4  2018-03-21 22:08:52.000  ",
      "text/html": "<div>\n<style scoped>\n    .dataframe tbody tr th:only-of-type {\n        vertical-align: middle;\n    }\n\n    .dataframe tbody tr th {\n        vertical-align: top;\n    }\n\n    .dataframe thead th {\n        text-align: right;\n    }\n</style>\n<table border=\"1\" class=\"dataframe\">\n  <thead>\n    <tr style=\"text-align: right;\">\n      <th></th>\n      <th>tags</th>\n      <th>id</th>\n      <th>plylst_title</th>\n      <th>songs</th>\n      <th>like_cnt</th>\n      <th>updt_date</th>\n    </tr>\n  </thead>\n  <tbody>\n    <tr>\n      <th>0</th>\n      <td>[연말, 분위기, 겨울, 성탄절, Christmas, 기분전환, 크리스마스, 캐롤,...</td>\n      <td>67590</td>\n      <td>크리스마스 분위기 같이 느껴볼래?</td>\n      <td>[404160, 424080, 172734, 677560, 387859, 22667...</td>\n      <td>16</td>\n      <td>2019-12-25 10:32:37.000</td>\n    </tr>\n    <tr>\n      <th>1</th>\n      <td>[솔로, 눈물]</td>\n      <td>67478</td>\n      <td>솔로 크리스마스..</td>\n      <td>[546793, 547185, 272539, 253755, 425758, 32911...</td>\n      <td>8</td>\n      <td>2016-12-24 02:50:30.000</td>\n    </tr>\n    <tr>\n      <th>2</th>\n      <td>[겨울, 겨울감성, 캐럴, 아이돌, 걸그룹, 크리스마스, 보이그룹, 신나는]</td>\n      <td>135680</td>\n      <td>포근한 크리스마스 분위기 더해줄 아이돌 캐럴</td>\n      <td>[262202, 112399, 187149, 326204, 345728, 16197...</td>\n      <td>6</td>\n      <td>2019-11-26 11:12:40.000</td>\n    </tr>\n    <tr>\n      <th>3</th>\n      <td>[명곡, 홀리데이, 크리스마스]</td>\n      <td>71752</td>\n      <td>크리스마스니까</td>\n      <td>[704789, 568514, 18973, 79517, 667770, 139082,...</td>\n      <td>8</td>\n      <td>2018-12-20 15:10:57.000</td>\n    </tr>\n    <tr>\n      <th>4</th>\n      <td>[기분좋은, 연말, 감성, 크리스마스이브, 달달한, 성탄절, 크리스마스노래, 설렘노...</td>\n      <td>40876</td>\n      <td>나만의 크리스마스 느낌 노래들_</td>\n      <td>[387859, 226670, 359615, 416029, 653711, 53504...</td>\n      <td>7</td>\n      <td>2018-03-21 22:08:52.000</td>\n    </tr>\n  </tbody>\n</table>\n</div>"
     },
     "execution_count": 27,
     "metadata": {},
     "output_type": "execute_result"
    }
   ],
   "source": [
    "print(len(train_playlist))\n",
    "train_playlist.head()"
   ],
   "metadata": {
    "collapsed": false,
    "pycharm": {
     "name": "#%%\n"
    }
   }
  },
  {
   "cell_type": "code",
   "execution_count": 28,
   "outputs": [
    {
     "data": {
      "text/plain": "     song_gn_dtl_gnr_basket  issue_date                          album_name  \\\n0  [GN1601, GN1615, GN1610]    20171006      Christmas at Westminster Abbey   \n1  [GN1701, GN1703, GN1702]    20121109  Christmas (Deluxe Special Edition)   \n2                  [GN0101]    20190408                                있어줄래   \n3          [GN0105, GN0101]    20121204                       WINTER POETRY   \n4          [GN1304, GN1301]    20110810                        Simple Steps   \n\n   album_id         artist_id_basket  \\\n0  10104201  [345328, 36652, 347399]   \n1   2167838                  [35370]   \n2  10271322                 [500421]   \n3   2169041                   [1741]   \n4   2058451                 [614091]   \n\n                                           song_name song_gn_gnr_basket  \\\n0  Anonymous: Up! Awake! From Highest Steeple - A...           [GN1600]   \n1          Mis Deseos \\/ Feliz Navidad (with Thalia)           [GN1700]   \n2                                               있어줄래           [GN0100]   \n3                                       너에게 전하지 못한 말           [GN0100]   \n4                                      Rollercoaster           [GN1300]   \n\n                                  artist_name_basket  id  \n0  [Choir Of Westminster Abbey, Simon Preston, Ch...  23  \n1                                    [Michael Buble]  41  \n2                                             [길구봉구]  54  \n3                                              [신혜성]  70  \n4                                          [Sam Ock]  71  ",
      "text/html": "<div>\n<style scoped>\n    .dataframe tbody tr th:only-of-type {\n        vertical-align: middle;\n    }\n\n    .dataframe tbody tr th {\n        vertical-align: top;\n    }\n\n    .dataframe thead th {\n        text-align: right;\n    }\n</style>\n<table border=\"1\" class=\"dataframe\">\n  <thead>\n    <tr style=\"text-align: right;\">\n      <th></th>\n      <th>song_gn_dtl_gnr_basket</th>\n      <th>issue_date</th>\n      <th>album_name</th>\n      <th>album_id</th>\n      <th>artist_id_basket</th>\n      <th>song_name</th>\n      <th>song_gn_gnr_basket</th>\n      <th>artist_name_basket</th>\n      <th>id</th>\n    </tr>\n  </thead>\n  <tbody>\n    <tr>\n      <th>0</th>\n      <td>[GN1601, GN1615, GN1610]</td>\n      <td>20171006</td>\n      <td>Christmas at Westminster Abbey</td>\n      <td>10104201</td>\n      <td>[345328, 36652, 347399]</td>\n      <td>Anonymous: Up! Awake! From Highest Steeple - A...</td>\n      <td>[GN1600]</td>\n      <td>[Choir Of Westminster Abbey, Simon Preston, Ch...</td>\n      <td>23</td>\n    </tr>\n    <tr>\n      <th>1</th>\n      <td>[GN1701, GN1703, GN1702]</td>\n      <td>20121109</td>\n      <td>Christmas (Deluxe Special Edition)</td>\n      <td>2167838</td>\n      <td>[35370]</td>\n      <td>Mis Deseos \\/ Feliz Navidad (with Thalia)</td>\n      <td>[GN1700]</td>\n      <td>[Michael Buble]</td>\n      <td>41</td>\n    </tr>\n    <tr>\n      <th>2</th>\n      <td>[GN0101]</td>\n      <td>20190408</td>\n      <td>있어줄래</td>\n      <td>10271322</td>\n      <td>[500421]</td>\n      <td>있어줄래</td>\n      <td>[GN0100]</td>\n      <td>[길구봉구]</td>\n      <td>54</td>\n    </tr>\n    <tr>\n      <th>3</th>\n      <td>[GN0105, GN0101]</td>\n      <td>20121204</td>\n      <td>WINTER POETRY</td>\n      <td>2169041</td>\n      <td>[1741]</td>\n      <td>너에게 전하지 못한 말</td>\n      <td>[GN0100]</td>\n      <td>[신혜성]</td>\n      <td>70</td>\n    </tr>\n    <tr>\n      <th>4</th>\n      <td>[GN1304, GN1301]</td>\n      <td>20110810</td>\n      <td>Simple Steps</td>\n      <td>2058451</td>\n      <td>[614091]</td>\n      <td>Rollercoaster</td>\n      <td>[GN1300]</td>\n      <td>[Sam Ock]</td>\n      <td>71</td>\n    </tr>\n  </tbody>\n</table>\n</div>"
     },
     "execution_count": 28,
     "metadata": {},
     "output_type": "execute_result"
    }
   ],
   "source": [
    "carol_data.head()"
   ],
   "metadata": {
    "collapsed": false,
    "pycharm": {
     "name": "#%%\n"
    }
   }
  },
  {
   "cell_type": "code",
   "execution_count": 29,
   "outputs": [
    {
     "name": "stdout",
     "output_type": "stream",
     "text": [
      "258\n"
     ]
    },
    {
     "data": {
      "text/plain": "                                                tags      id  \\\n0                                         [겨울, 기분전환]   70387   \n1  [여유로운, 겨울, 휴식, 매장음악, 카페, 잔잔한, 힐링, 기분전환, 크리스마스,...   59811   \n2                                       [겨울, 설렘, 사랑]   17664   \n3  [매장음악, 캐럴, 카페, 상쾌, LINYL, 기분전환, 크리스마스, 캐롤, 즐거운...   17426   \n4                                 [눈, 겨울, 크리스마스, 캐롤]  121806   \n\n                  plylst_title  \\\n0  크리스마스분위기에 흠뻑~겨울냄새 물씬!크리스마스송   \n1       선물과 같은 크리스마스에 듣는 연주곡:)   \n2            크리스마스가 빨리 왔으면 좋겠다   \n3    매 년 새로워, 짜릿해! 크리스마스 (POP)   \n4       내 맘에 쏙드는 크리스마스 노래모음..✿   \n\n                                               songs  like_cnt  \\\n0  [387859, 112399, 10445, 326204, 345728, 249436...         3   \n1  [261726, 6984, 663277, 366237, 205608, 545671,...         0   \n2  [438403, 185874, 74551, 318487, 551335, 623455...        17   \n3  [387859, 271057, 422873, 526035, 433118, 35635...         8   \n4  [443077, 136428, 595353, 187149, 326204, 56799...         3   \n\n                 updt_date  \n0  2016-12-02 19:01:43.000  \n1  2019-12-23 07:31:13.000  \n2  2015-10-11 09:41:02.000  \n3  2019-12-06 16:46:14.000  \n4  2017-11-24 15:47:01.000  ",
      "text/html": "<div>\n<style scoped>\n    .dataframe tbody tr th:only-of-type {\n        vertical-align: middle;\n    }\n\n    .dataframe tbody tr th {\n        vertical-align: top;\n    }\n\n    .dataframe thead th {\n        text-align: right;\n    }\n</style>\n<table border=\"1\" class=\"dataframe\">\n  <thead>\n    <tr style=\"text-align: right;\">\n      <th></th>\n      <th>tags</th>\n      <th>id</th>\n      <th>plylst_title</th>\n      <th>songs</th>\n      <th>like_cnt</th>\n      <th>updt_date</th>\n    </tr>\n  </thead>\n  <tbody>\n    <tr>\n      <th>0</th>\n      <td>[겨울, 기분전환]</td>\n      <td>70387</td>\n      <td>크리스마스분위기에 흠뻑~겨울냄새 물씬!크리스마스송</td>\n      <td>[387859, 112399, 10445, 326204, 345728, 249436...</td>\n      <td>3</td>\n      <td>2016-12-02 19:01:43.000</td>\n    </tr>\n    <tr>\n      <th>1</th>\n      <td>[여유로운, 겨울, 휴식, 매장음악, 카페, 잔잔한, 힐링, 기분전환, 크리스마스,...</td>\n      <td>59811</td>\n      <td>선물과 같은 크리스마스에 듣는 연주곡:)</td>\n      <td>[261726, 6984, 663277, 366237, 205608, 545671,...</td>\n      <td>0</td>\n      <td>2019-12-23 07:31:13.000</td>\n    </tr>\n    <tr>\n      <th>2</th>\n      <td>[겨울, 설렘, 사랑]</td>\n      <td>17664</td>\n      <td>크리스마스가 빨리 왔으면 좋겠다</td>\n      <td>[438403, 185874, 74551, 318487, 551335, 623455...</td>\n      <td>17</td>\n      <td>2015-10-11 09:41:02.000</td>\n    </tr>\n    <tr>\n      <th>3</th>\n      <td>[매장음악, 캐럴, 카페, 상쾌, LINYL, 기분전환, 크리스마스, 캐롤, 즐거운...</td>\n      <td>17426</td>\n      <td>매 년 새로워, 짜릿해! 크리스마스 (POP)</td>\n      <td>[387859, 271057, 422873, 526035, 433118, 35635...</td>\n      <td>8</td>\n      <td>2019-12-06 16:46:14.000</td>\n    </tr>\n    <tr>\n      <th>4</th>\n      <td>[눈, 겨울, 크리스마스, 캐롤]</td>\n      <td>121806</td>\n      <td>내 맘에 쏙드는 크리스마스 노래모음..✿</td>\n      <td>[443077, 136428, 595353, 187149, 326204, 56799...</td>\n      <td>3</td>\n      <td>2017-11-24 15:47:01.000</td>\n    </tr>\n  </tbody>\n</table>\n</div>"
     },
     "execution_count": 29,
     "metadata": {},
     "output_type": "execute_result"
    }
   ],
   "source": [
    "print(len(val_playlist))\n",
    "val_playlist.head()"
   ],
   "metadata": {
    "collapsed": false,
    "pycharm": {
     "name": "#%%\n"
    }
   }
  },
  {
   "cell_type": "code",
   "execution_count": 30,
   "outputs": [
    {
     "name": "stdout",
     "output_type": "stream",
     "text": [
      "322\n"
     ]
    },
    {
     "data": {
      "text/plain": "                                               tags      id  \\\n0                                         [휴식, 잔잔한]   72753   \n1                     [겨울, 겨울노래베스트, 로맨틱, 크리스마스, 캐롤]  132953   \n2       [겨울, 로맨틱, 메리크리스마스, 연인, 분위기, 겨울분위기, 로맨스, 캐롤]   15133   \n3  [연말, 연주곡, 피아노, 꿀잠, 잠들기전, 캐롤, 부드러운, 자장가, 숙면, 따뜻한]   65372   \n4        [겨울, 분위기, 카페, 케롤, 첫눈, 크리스마스, 설렘, 거리, 겨울감성]   85669   \n\n                    plylst_title  \\\n0                       크리스마스239   \n1  미리 크리스마스~❤ 달달하고 로맨틱한 겨울감성 뮤직!   \n2             메리 크리스마스 흔하지 않은 캐롤   \n3        잠이 솔솔 올때 듣는 음악(캐롤,뉴에이지)   \n4       크리스마스날 길에서 나오면 설레는 노래>_<   \n\n                                               songs  like_cnt  \\\n0  [405485, 381653, 566122, 546313, 158539, 68697...         0   \n1  [196522, 305218, 61771, 338900, 303055, 248418...         9   \n2  [137754, 166884, 321147, 312613, 327471, 33289...         9   \n3  [121837, 333474, 276541, 422708, 301555, 22007...         4   \n4  [387859, 265904, 112399, 326204, 695032, 62277...        16   \n\n                 updt_date  \n0  2019-11-19 13:35:09.000  \n1  2018-11-27 23:08:20.000  \n2  2017-11-09 17:47:27.000  \n3  2018-12-12 17:42:27.000  \n4  2020-02-28 14:06:37.000  ",
      "text/html": "<div>\n<style scoped>\n    .dataframe tbody tr th:only-of-type {\n        vertical-align: middle;\n    }\n\n    .dataframe tbody tr th {\n        vertical-align: top;\n    }\n\n    .dataframe thead th {\n        text-align: right;\n    }\n</style>\n<table border=\"1\" class=\"dataframe\">\n  <thead>\n    <tr style=\"text-align: right;\">\n      <th></th>\n      <th>tags</th>\n      <th>id</th>\n      <th>plylst_title</th>\n      <th>songs</th>\n      <th>like_cnt</th>\n      <th>updt_date</th>\n    </tr>\n  </thead>\n  <tbody>\n    <tr>\n      <th>0</th>\n      <td>[휴식, 잔잔한]</td>\n      <td>72753</td>\n      <td>크리스마스239</td>\n      <td>[405485, 381653, 566122, 546313, 158539, 68697...</td>\n      <td>0</td>\n      <td>2019-11-19 13:35:09.000</td>\n    </tr>\n    <tr>\n      <th>1</th>\n      <td>[겨울, 겨울노래베스트, 로맨틱, 크리스마스, 캐롤]</td>\n      <td>132953</td>\n      <td>미리 크리스마스~❤ 달달하고 로맨틱한 겨울감성 뮤직!</td>\n      <td>[196522, 305218, 61771, 338900, 303055, 248418...</td>\n      <td>9</td>\n      <td>2018-11-27 23:08:20.000</td>\n    </tr>\n    <tr>\n      <th>2</th>\n      <td>[겨울, 로맨틱, 메리크리스마스, 연인, 분위기, 겨울분위기, 로맨스, 캐롤]</td>\n      <td>15133</td>\n      <td>메리 크리스마스 흔하지 않은 캐롤</td>\n      <td>[137754, 166884, 321147, 312613, 327471, 33289...</td>\n      <td>9</td>\n      <td>2017-11-09 17:47:27.000</td>\n    </tr>\n    <tr>\n      <th>3</th>\n      <td>[연말, 연주곡, 피아노, 꿀잠, 잠들기전, 캐롤, 부드러운, 자장가, 숙면, 따뜻한]</td>\n      <td>65372</td>\n      <td>잠이 솔솔 올때 듣는 음악(캐롤,뉴에이지)</td>\n      <td>[121837, 333474, 276541, 422708, 301555, 22007...</td>\n      <td>4</td>\n      <td>2018-12-12 17:42:27.000</td>\n    </tr>\n    <tr>\n      <th>4</th>\n      <td>[겨울, 분위기, 카페, 케롤, 첫눈, 크리스마스, 설렘, 거리, 겨울감성]</td>\n      <td>85669</td>\n      <td>크리스마스날 길에서 나오면 설레는 노래&gt;_&lt;</td>\n      <td>[387859, 265904, 112399, 326204, 695032, 62277...</td>\n      <td>16</td>\n      <td>2020-02-28 14:06:37.000</td>\n    </tr>\n  </tbody>\n</table>\n</div>"
     },
     "execution_count": 30,
     "metadata": {},
     "output_type": "execute_result"
    }
   ],
   "source": [
    "print(len(test_playlist))\n",
    "test_playlist.head()"
   ],
   "metadata": {
    "collapsed": false,
    "pycharm": {
     "name": "#%%\n"
    }
   }
  },
  {
   "cell_type": "code",
   "execution_count": null,
   "outputs": [],
   "source": [],
   "metadata": {
    "collapsed": false,
    "pycharm": {
     "name": "#%%\n"
    }
   }
  }
 ],
 "metadata": {
  "kernelspec": {
   "display_name": "Python 3",
   "language": "python",
   "name": "python3"
  },
  "language_info": {
   "codemirror_mode": {
    "name": "ipython",
    "version": 3
   },
   "file_extension": ".py",
   "mimetype": "text/x-python",
   "name": "python",
   "nbconvert_exporter": "python",
   "pygments_lexer": "ipython3",
   "version": "3.8.5"
  }
 },
 "nbformat": 4,
 "nbformat_minor": 4
}